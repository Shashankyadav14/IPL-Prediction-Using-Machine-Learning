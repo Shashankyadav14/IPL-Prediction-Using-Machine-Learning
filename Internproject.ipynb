{
  "nbformat": 4,
  "nbformat_minor": 0,
  "metadata": {
    "colab": {
      "name": "Internproject.ipynb",
      "provenance": [],
      "collapsed_sections": [],
      "mount_file_id": "1fUk48dG3QgljeQADxswDGfRHiHD9KSh8",
      "authorship_tag": "ABX9TyPQEJpeGUu8kOgJ47tmf5ag"
    },
    "kernelspec": {
      "name": "python3",
      "display_name": "Python 3"
    }
  },
  "cells": [
    {
      "cell_type": "markdown",
      "metadata": {
        "id": "RwdlAozcMrtC"
      },
      "source": [
        "# **IPL Prediction using Machine Learning**\n",
        "***Using IPL Datasets from 2008-2019***\n",
        "\n",
        "**`Dataset from Kaggle`**"
      ]
    },
    {
      "cell_type": "markdown",
      "metadata": {
        "id": "XKImOIlBLo_V"
      },
      "source": [
        "# **Import library and data**"
      ]
    },
    {
      "cell_type": "code",
      "metadata": {
        "id": "kccJLg3tL01p"
      },
      "source": [
        "import numpy as np\n",
        "import pandas as pd\n",
        "import seaborn as sns\n",
        "import matplotlib.pyplot as plt"
      ],
      "execution_count": null,
      "outputs": []
    },
    {
      "cell_type": "code",
      "metadata": {
        "id": "Xrtq8Ut9SNMc"
      },
      "source": [
        "matches = pd.read_csv('/content/drive/My Drive/Colab Notebooks/intern project/matches.csv')\n",
        "deliveries = pd.read_csv('/content/drive/My Drive/Colab Notebooks/intern project/deliveries.csv')"
      ],
      "execution_count": null,
      "outputs": []
    },
    {
      "cell_type": "code",
      "metadata": {
        "id": "_yElWtqJUEUM",
        "outputId": "b5429591-a89c-414b-ea1e-97deded1f705",
        "colab": {
          "base_uri": "https://localhost:8080/",
          "height": 461
        }
      },
      "source": [
        "matches.info()"
      ],
      "execution_count": null,
      "outputs": [
        {
          "output_type": "stream",
          "text": [
            "<class 'pandas.core.frame.DataFrame'>\n",
            "RangeIndex: 756 entries, 0 to 755\n",
            "Data columns (total 18 columns):\n",
            " #   Column           Non-Null Count  Dtype \n",
            "---  ------           --------------  ----- \n",
            " 0   id               756 non-null    int64 \n",
            " 1   Season           756 non-null    object\n",
            " 2   city             749 non-null    object\n",
            " 3   date             756 non-null    object\n",
            " 4   team1            756 non-null    object\n",
            " 5   team2            756 non-null    object\n",
            " 6   toss_winner      756 non-null    object\n",
            " 7   toss_decision    756 non-null    object\n",
            " 8   result           756 non-null    object\n",
            " 9   dl_applied       756 non-null    int64 \n",
            " 10  winner           752 non-null    object\n",
            " 11  win_by_runs      756 non-null    int64 \n",
            " 12  win_by_wickets   756 non-null    int64 \n",
            " 13  player_of_match  752 non-null    object\n",
            " 14  venue            756 non-null    object\n",
            " 15  umpire1          754 non-null    object\n",
            " 16  umpire2          754 non-null    object\n",
            " 17  umpire3          119 non-null    object\n",
            "dtypes: int64(4), object(14)\n",
            "memory usage: 106.4+ KB\n"
          ],
          "name": "stdout"
        }
      ]
    },
    {
      "cell_type": "code",
      "metadata": {
        "id": "11HT9OD7UJaB",
        "outputId": "4f811b83-ec15-44a2-e0f2-ff5886e54b6d",
        "colab": {
          "base_uri": "https://localhost:8080/",
          "height": 514
        }
      },
      "source": [
        "deliveries.info()"
      ],
      "execution_count": null,
      "outputs": [
        {
          "output_type": "stream",
          "text": [
            "<class 'pandas.core.frame.DataFrame'>\n",
            "RangeIndex: 179078 entries, 0 to 179077\n",
            "Data columns (total 21 columns):\n",
            " #   Column            Non-Null Count   Dtype \n",
            "---  ------            --------------   ----- \n",
            " 0   match_id          179078 non-null  int64 \n",
            " 1   inning            179078 non-null  int64 \n",
            " 2   batting_team      179078 non-null  object\n",
            " 3   bowling_team      179078 non-null  object\n",
            " 4   over              179078 non-null  int64 \n",
            " 5   ball              179078 non-null  int64 \n",
            " 6   batsman           179078 non-null  object\n",
            " 7   non_striker       179078 non-null  object\n",
            " 8   bowler            179078 non-null  object\n",
            " 9   is_super_over     179078 non-null  int64 \n",
            " 10  wide_runs         179078 non-null  int64 \n",
            " 11  bye_runs          179078 non-null  int64 \n",
            " 12  legbye_runs       179078 non-null  int64 \n",
            " 13  noball_runs       179078 non-null  int64 \n",
            " 14  penalty_runs      179078 non-null  int64 \n",
            " 15  batsman_runs      179078 non-null  int64 \n",
            " 16  extra_runs        179078 non-null  int64 \n",
            " 17  total_runs        179078 non-null  int64 \n",
            " 18  player_dismissed  8834 non-null    object\n",
            " 19  dismissal_kind    8834 non-null    object\n",
            " 20  fielder           6448 non-null    object\n",
            "dtypes: int64(13), object(8)\n",
            "memory usage: 28.7+ MB\n"
          ],
          "name": "stdout"
        }
      ]
    },
    {
      "cell_type": "markdown",
      "metadata": {
        "id": "8FYOxh1vVLPW"
      },
      "source": [
        "# **Data Preprocessing** "
      ]
    },
    {
      "cell_type": "markdown",
      "metadata": {
        "id": "8m8JGvmke8Ej"
      },
      "source": [
        "***find the matches where results are NaN and make it draw***"
      ]
    },
    {
      "cell_type": "code",
      "metadata": {
        "id": "YYl0S3gaV8dt",
        "outputId": "0d3c7fd6-8a6f-4c9d-9f66-560d5384330f",
        "colab": {
          "base_uri": "https://localhost:8080/",
          "height": 321
        }
      },
      "source": [
        "matches[pd.isnull(matches['winner'])]"
      ],
      "execution_count": null,
      "outputs": [
        {
          "output_type": "execute_result",
          "data": {
            "text/html": [
              "<div>\n",
              "<style scoped>\n",
              "    .dataframe tbody tr th:only-of-type {\n",
              "        vertical-align: middle;\n",
              "    }\n",
              "\n",
              "    .dataframe tbody tr th {\n",
              "        vertical-align: top;\n",
              "    }\n",
              "\n",
              "    .dataframe thead th {\n",
              "        text-align: right;\n",
              "    }\n",
              "</style>\n",
              "<table border=\"1\" class=\"dataframe\">\n",
              "  <thead>\n",
              "    <tr style=\"text-align: right;\">\n",
              "      <th></th>\n",
              "      <th>id</th>\n",
              "      <th>Season</th>\n",
              "      <th>city</th>\n",
              "      <th>date</th>\n",
              "      <th>team1</th>\n",
              "      <th>team2</th>\n",
              "      <th>toss_winner</th>\n",
              "      <th>toss_decision</th>\n",
              "      <th>result</th>\n",
              "      <th>dl_applied</th>\n",
              "      <th>winner</th>\n",
              "      <th>win_by_runs</th>\n",
              "      <th>win_by_wickets</th>\n",
              "      <th>player_of_match</th>\n",
              "      <th>venue</th>\n",
              "      <th>umpire1</th>\n",
              "      <th>umpire2</th>\n",
              "      <th>umpire3</th>\n",
              "    </tr>\n",
              "  </thead>\n",
              "  <tbody>\n",
              "    <tr>\n",
              "      <th>300</th>\n",
              "      <td>301</td>\n",
              "      <td>IPL-2011</td>\n",
              "      <td>Delhi</td>\n",
              "      <td>21-05-2011</td>\n",
              "      <td>Delhi Daredevils</td>\n",
              "      <td>Pune Warriors</td>\n",
              "      <td>Delhi Daredevils</td>\n",
              "      <td>bat</td>\n",
              "      <td>no result</td>\n",
              "      <td>0</td>\n",
              "      <td>NaN</td>\n",
              "      <td>0</td>\n",
              "      <td>0</td>\n",
              "      <td>NaN</td>\n",
              "      <td>Feroz Shah Kotla</td>\n",
              "      <td>SS Hazare</td>\n",
              "      <td>RJ Tucker</td>\n",
              "      <td>NaN</td>\n",
              "    </tr>\n",
              "    <tr>\n",
              "      <th>545</th>\n",
              "      <td>546</td>\n",
              "      <td>IPL-2015</td>\n",
              "      <td>Bangalore</td>\n",
              "      <td>29-04-2015</td>\n",
              "      <td>Royal Challengers Bangalore</td>\n",
              "      <td>Rajasthan Royals</td>\n",
              "      <td>Rajasthan Royals</td>\n",
              "      <td>field</td>\n",
              "      <td>no result</td>\n",
              "      <td>0</td>\n",
              "      <td>NaN</td>\n",
              "      <td>0</td>\n",
              "      <td>0</td>\n",
              "      <td>NaN</td>\n",
              "      <td>M Chinnaswamy Stadium</td>\n",
              "      <td>JD Cloete</td>\n",
              "      <td>PG Pathak</td>\n",
              "      <td>NaN</td>\n",
              "    </tr>\n",
              "    <tr>\n",
              "      <th>570</th>\n",
              "      <td>571</td>\n",
              "      <td>IPL-2015</td>\n",
              "      <td>Bangalore</td>\n",
              "      <td>17-05-2015</td>\n",
              "      <td>Delhi Daredevils</td>\n",
              "      <td>Royal Challengers Bangalore</td>\n",
              "      <td>Royal Challengers Bangalore</td>\n",
              "      <td>field</td>\n",
              "      <td>no result</td>\n",
              "      <td>0</td>\n",
              "      <td>NaN</td>\n",
              "      <td>0</td>\n",
              "      <td>0</td>\n",
              "      <td>NaN</td>\n",
              "      <td>M Chinnaswamy Stadium</td>\n",
              "      <td>HDPK Dharmasena</td>\n",
              "      <td>K Srinivasan</td>\n",
              "      <td>NaN</td>\n",
              "    </tr>\n",
              "    <tr>\n",
              "      <th>744</th>\n",
              "      <td>11340</td>\n",
              "      <td>IPL-2019</td>\n",
              "      <td>Bengaluru</td>\n",
              "      <td>30-04-2019</td>\n",
              "      <td>Royal Challengers Bangalore</td>\n",
              "      <td>Rajasthan Royals</td>\n",
              "      <td>Rajasthan Royals</td>\n",
              "      <td>field</td>\n",
              "      <td>no result</td>\n",
              "      <td>0</td>\n",
              "      <td>NaN</td>\n",
              "      <td>0</td>\n",
              "      <td>0</td>\n",
              "      <td>NaN</td>\n",
              "      <td>M. Chinnaswamy Stadium</td>\n",
              "      <td>Nigel Llong</td>\n",
              "      <td>Ulhas Gandhe</td>\n",
              "      <td>Anil Chaudhary</td>\n",
              "    </tr>\n",
              "  </tbody>\n",
              "</table>\n",
              "</div>"
            ],
            "text/plain": [
              "        id    Season       city  ...          umpire1       umpire2         umpire3\n",
              "300    301  IPL-2011      Delhi  ...        SS Hazare     RJ Tucker             NaN\n",
              "545    546  IPL-2015  Bangalore  ...        JD Cloete     PG Pathak             NaN\n",
              "570    571  IPL-2015  Bangalore  ...  HDPK Dharmasena  K Srinivasan             NaN\n",
              "744  11340  IPL-2019  Bengaluru  ...      Nigel Llong  Ulhas Gandhe  Anil Chaudhary\n",
              "\n",
              "[4 rows x 18 columns]"
            ]
          },
          "metadata": {
            "tags": []
          },
          "execution_count": 31
        }
      ]
    },
    {
      "cell_type": "code",
      "metadata": {
        "id": "WH642YQmV9LA"
      },
      "source": [
        "matches['winner'].fillna('Draw',inplace=True)"
      ],
      "execution_count": null,
      "outputs": []
    },
    {
      "cell_type": "code",
      "metadata": {
        "id": "Fh1Byr7pWN7e",
        "outputId": "c4181136-f127-483b-fb38-f4da34c1d798",
        "colab": {
          "base_uri": "https://localhost:8080/",
          "height": 35
        }
      },
      "source": [
        "matches.loc[545,'winner']"
      ],
      "execution_count": null,
      "outputs": [
        {
          "output_type": "execute_result",
          "data": {
            "application/vnd.google.colaboratory.intrinsic+json": {
              "type": "string"
            },
            "text/plain": [
              "'Draw'"
            ]
          },
          "metadata": {
            "tags": []
          },
          "execution_count": 33
        }
      ]
    },
    {
      "cell_type": "code",
      "metadata": {
        "id": "a0cpRJNalWzn"
      },
      "source": [
        "# Initials of Teams are replaced in place of Team names(i,e Royal Challengers Bangalore ---> RCB) \n",
        "\n",
        "matches.replace(['Mumbai Indians','Kolkata Knight Riders','Royal Challengers Bangalore','Deccan Chargers','Chennai Super Kings',\n",
        "                 'Rajasthan Royals','Delhi Daredevils','Gujarat Lions','Kings XI Punjab',\n",
        "                 'Sunrisers Hyderabad','Rising Pune Supergiants','Kochi Tuskers Kerala','Pune Warriors','Rising Pune Supergiant','Delhi Capitals']\n",
        "                ,['MI','KKR','RCB','DC','CSK','RR','DD','GL','KXIP','SRH','RPS','KTK','PW','RPS','DD'],inplace=True)\n",
        "\n",
        "#(Replace Delhi Capitals to Delhi Daredevils as Deccan Chargers having initials DC)\n",
        "\n",
        "deliveries.replace(['Mumbai Indians','Kolkata Knight Riders','Royal Challengers Bangalore','Deccan Chargers','Chennai Super Kings',\n",
        "                 'Rajasthan Royals','Delhi Daredevils','Gujarat Lions','Kings XI Punjab',\n",
        "                 'Sunrisers Hyderabad','Rising Pune Supergiants','Kochi Tuskers Kerala','Pune Warriors','Rising Pune Supergiant','Delhi Capitals']\n",
        "                ,['MI','KKR','RCB','DC','CSK','RR','DD','GL','KXIP','SRH','RPS','KTK','PW','RPS','DD'],inplace=True)"
      ],
      "execution_count": null,
      "outputs": []
    },
    {
      "cell_type": "code",
      "metadata": {
        "id": "YByf8F5Vt5pn",
        "outputId": "37a928ae-3573-44fb-80cb-5155c84716ef",
        "colab": {
          "base_uri": "https://localhost:8080/",
          "height": 434
        }
      },
      "source": [
        "matches.head(5)"
      ],
      "execution_count": null,
      "outputs": [
        {
          "output_type": "execute_result",
          "data": {
            "text/html": [
              "<div>\n",
              "<style scoped>\n",
              "    .dataframe tbody tr th:only-of-type {\n",
              "        vertical-align: middle;\n",
              "    }\n",
              "\n",
              "    .dataframe tbody tr th {\n",
              "        vertical-align: top;\n",
              "    }\n",
              "\n",
              "    .dataframe thead th {\n",
              "        text-align: right;\n",
              "    }\n",
              "</style>\n",
              "<table border=\"1\" class=\"dataframe\">\n",
              "  <thead>\n",
              "    <tr style=\"text-align: right;\">\n",
              "      <th></th>\n",
              "      <th>id</th>\n",
              "      <th>Season</th>\n",
              "      <th>city</th>\n",
              "      <th>date</th>\n",
              "      <th>team1</th>\n",
              "      <th>team2</th>\n",
              "      <th>toss_winner</th>\n",
              "      <th>toss_decision</th>\n",
              "      <th>result</th>\n",
              "      <th>dl_applied</th>\n",
              "      <th>winner</th>\n",
              "      <th>win_by_runs</th>\n",
              "      <th>win_by_wickets</th>\n",
              "      <th>player_of_match</th>\n",
              "      <th>venue</th>\n",
              "      <th>umpire1</th>\n",
              "      <th>umpire2</th>\n",
              "      <th>umpire3</th>\n",
              "    </tr>\n",
              "  </thead>\n",
              "  <tbody>\n",
              "    <tr>\n",
              "      <th>0</th>\n",
              "      <td>1</td>\n",
              "      <td>IPL-2017</td>\n",
              "      <td>Hyderabad</td>\n",
              "      <td>05-04-2017</td>\n",
              "      <td>SRH</td>\n",
              "      <td>RCB</td>\n",
              "      <td>RCB</td>\n",
              "      <td>field</td>\n",
              "      <td>normal</td>\n",
              "      <td>0</td>\n",
              "      <td>SRH</td>\n",
              "      <td>35</td>\n",
              "      <td>0</td>\n",
              "      <td>Yuvraj Singh</td>\n",
              "      <td>Rajiv Gandhi International Stadium, Uppal</td>\n",
              "      <td>AY Dandekar</td>\n",
              "      <td>NJ Llong</td>\n",
              "      <td>NaN</td>\n",
              "    </tr>\n",
              "    <tr>\n",
              "      <th>1</th>\n",
              "      <td>2</td>\n",
              "      <td>IPL-2017</td>\n",
              "      <td>Pune</td>\n",
              "      <td>06-04-2017</td>\n",
              "      <td>MI</td>\n",
              "      <td>RPS</td>\n",
              "      <td>RPS</td>\n",
              "      <td>field</td>\n",
              "      <td>normal</td>\n",
              "      <td>0</td>\n",
              "      <td>RPS</td>\n",
              "      <td>0</td>\n",
              "      <td>7</td>\n",
              "      <td>SPD Smith</td>\n",
              "      <td>Maharashtra Cricket Association Stadium</td>\n",
              "      <td>A Nand Kishore</td>\n",
              "      <td>S Ravi</td>\n",
              "      <td>NaN</td>\n",
              "    </tr>\n",
              "    <tr>\n",
              "      <th>2</th>\n",
              "      <td>3</td>\n",
              "      <td>IPL-2017</td>\n",
              "      <td>Rajkot</td>\n",
              "      <td>07-04-2017</td>\n",
              "      <td>GL</td>\n",
              "      <td>KKR</td>\n",
              "      <td>KKR</td>\n",
              "      <td>field</td>\n",
              "      <td>normal</td>\n",
              "      <td>0</td>\n",
              "      <td>KKR</td>\n",
              "      <td>0</td>\n",
              "      <td>10</td>\n",
              "      <td>CA Lynn</td>\n",
              "      <td>Saurashtra Cricket Association Stadium</td>\n",
              "      <td>Nitin Menon</td>\n",
              "      <td>CK Nandan</td>\n",
              "      <td>NaN</td>\n",
              "    </tr>\n",
              "    <tr>\n",
              "      <th>3</th>\n",
              "      <td>4</td>\n",
              "      <td>IPL-2017</td>\n",
              "      <td>Indore</td>\n",
              "      <td>08-04-2017</td>\n",
              "      <td>RPS</td>\n",
              "      <td>KXIP</td>\n",
              "      <td>KXIP</td>\n",
              "      <td>field</td>\n",
              "      <td>normal</td>\n",
              "      <td>0</td>\n",
              "      <td>KXIP</td>\n",
              "      <td>0</td>\n",
              "      <td>6</td>\n",
              "      <td>GJ Maxwell</td>\n",
              "      <td>Holkar Cricket Stadium</td>\n",
              "      <td>AK Chaudhary</td>\n",
              "      <td>C Shamshuddin</td>\n",
              "      <td>NaN</td>\n",
              "    </tr>\n",
              "    <tr>\n",
              "      <th>4</th>\n",
              "      <td>5</td>\n",
              "      <td>IPL-2017</td>\n",
              "      <td>Bangalore</td>\n",
              "      <td>08-04-2017</td>\n",
              "      <td>RCB</td>\n",
              "      <td>DD</td>\n",
              "      <td>RCB</td>\n",
              "      <td>bat</td>\n",
              "      <td>normal</td>\n",
              "      <td>0</td>\n",
              "      <td>RCB</td>\n",
              "      <td>15</td>\n",
              "      <td>0</td>\n",
              "      <td>KM Jadhav</td>\n",
              "      <td>M Chinnaswamy Stadium</td>\n",
              "      <td>NaN</td>\n",
              "      <td>NaN</td>\n",
              "      <td>NaN</td>\n",
              "    </tr>\n",
              "  </tbody>\n",
              "</table>\n",
              "</div>"
            ],
            "text/plain": [
              "   id    Season       city  ...         umpire1        umpire2 umpire3\n",
              "0   1  IPL-2017  Hyderabad  ...     AY Dandekar       NJ Llong     NaN\n",
              "1   2  IPL-2017       Pune  ...  A Nand Kishore         S Ravi     NaN\n",
              "2   3  IPL-2017     Rajkot  ...     Nitin Menon      CK Nandan     NaN\n",
              "3   4  IPL-2017     Indore  ...    AK Chaudhary  C Shamshuddin     NaN\n",
              "4   5  IPL-2017  Bangalore  ...             NaN            NaN     NaN\n",
              "\n",
              "[5 rows x 18 columns]"
            ]
          },
          "metadata": {
            "tags": []
          },
          "execution_count": 35
        }
      ]
    },
    {
      "cell_type": "code",
      "metadata": {
        "id": "xDS129m76rRC",
        "outputId": "4dfc4df4-50a0-4fb4-d6d9-2443e15a9b1d",
        "colab": {
          "base_uri": "https://localhost:8080/",
          "height": 641
        }
      },
      "source": [
        "deliveries.head(13)"
      ],
      "execution_count": null,
      "outputs": [
        {
          "output_type": "execute_result",
          "data": {
            "text/html": [
              "<div>\n",
              "<style scoped>\n",
              "    .dataframe tbody tr th:only-of-type {\n",
              "        vertical-align: middle;\n",
              "    }\n",
              "\n",
              "    .dataframe tbody tr th {\n",
              "        vertical-align: top;\n",
              "    }\n",
              "\n",
              "    .dataframe thead th {\n",
              "        text-align: right;\n",
              "    }\n",
              "</style>\n",
              "<table border=\"1\" class=\"dataframe\">\n",
              "  <thead>\n",
              "    <tr style=\"text-align: right;\">\n",
              "      <th></th>\n",
              "      <th>match_id</th>\n",
              "      <th>inning</th>\n",
              "      <th>batting_team</th>\n",
              "      <th>bowling_team</th>\n",
              "      <th>over</th>\n",
              "      <th>ball</th>\n",
              "      <th>batsman</th>\n",
              "      <th>non_striker</th>\n",
              "      <th>bowler</th>\n",
              "      <th>is_super_over</th>\n",
              "      <th>wide_runs</th>\n",
              "      <th>bye_runs</th>\n",
              "      <th>legbye_runs</th>\n",
              "      <th>noball_runs</th>\n",
              "      <th>penalty_runs</th>\n",
              "      <th>batsman_runs</th>\n",
              "      <th>extra_runs</th>\n",
              "      <th>total_runs</th>\n",
              "      <th>player_dismissed</th>\n",
              "      <th>dismissal_kind</th>\n",
              "      <th>fielder</th>\n",
              "    </tr>\n",
              "  </thead>\n",
              "  <tbody>\n",
              "    <tr>\n",
              "      <th>0</th>\n",
              "      <td>1</td>\n",
              "      <td>1</td>\n",
              "      <td>SRH</td>\n",
              "      <td>RCB</td>\n",
              "      <td>1</td>\n",
              "      <td>1</td>\n",
              "      <td>DA Warner</td>\n",
              "      <td>S Dhawan</td>\n",
              "      <td>TS Mills</td>\n",
              "      <td>0</td>\n",
              "      <td>0</td>\n",
              "      <td>0</td>\n",
              "      <td>0</td>\n",
              "      <td>0</td>\n",
              "      <td>0</td>\n",
              "      <td>0</td>\n",
              "      <td>0</td>\n",
              "      <td>0</td>\n",
              "      <td>NaN</td>\n",
              "      <td>NaN</td>\n",
              "      <td>NaN</td>\n",
              "    </tr>\n",
              "    <tr>\n",
              "      <th>1</th>\n",
              "      <td>1</td>\n",
              "      <td>1</td>\n",
              "      <td>SRH</td>\n",
              "      <td>RCB</td>\n",
              "      <td>1</td>\n",
              "      <td>2</td>\n",
              "      <td>DA Warner</td>\n",
              "      <td>S Dhawan</td>\n",
              "      <td>TS Mills</td>\n",
              "      <td>0</td>\n",
              "      <td>0</td>\n",
              "      <td>0</td>\n",
              "      <td>0</td>\n",
              "      <td>0</td>\n",
              "      <td>0</td>\n",
              "      <td>0</td>\n",
              "      <td>0</td>\n",
              "      <td>0</td>\n",
              "      <td>NaN</td>\n",
              "      <td>NaN</td>\n",
              "      <td>NaN</td>\n",
              "    </tr>\n",
              "    <tr>\n",
              "      <th>2</th>\n",
              "      <td>1</td>\n",
              "      <td>1</td>\n",
              "      <td>SRH</td>\n",
              "      <td>RCB</td>\n",
              "      <td>1</td>\n",
              "      <td>3</td>\n",
              "      <td>DA Warner</td>\n",
              "      <td>S Dhawan</td>\n",
              "      <td>TS Mills</td>\n",
              "      <td>0</td>\n",
              "      <td>0</td>\n",
              "      <td>0</td>\n",
              "      <td>0</td>\n",
              "      <td>0</td>\n",
              "      <td>0</td>\n",
              "      <td>4</td>\n",
              "      <td>0</td>\n",
              "      <td>4</td>\n",
              "      <td>NaN</td>\n",
              "      <td>NaN</td>\n",
              "      <td>NaN</td>\n",
              "    </tr>\n",
              "    <tr>\n",
              "      <th>3</th>\n",
              "      <td>1</td>\n",
              "      <td>1</td>\n",
              "      <td>SRH</td>\n",
              "      <td>RCB</td>\n",
              "      <td>1</td>\n",
              "      <td>4</td>\n",
              "      <td>DA Warner</td>\n",
              "      <td>S Dhawan</td>\n",
              "      <td>TS Mills</td>\n",
              "      <td>0</td>\n",
              "      <td>0</td>\n",
              "      <td>0</td>\n",
              "      <td>0</td>\n",
              "      <td>0</td>\n",
              "      <td>0</td>\n",
              "      <td>0</td>\n",
              "      <td>0</td>\n",
              "      <td>0</td>\n",
              "      <td>NaN</td>\n",
              "      <td>NaN</td>\n",
              "      <td>NaN</td>\n",
              "    </tr>\n",
              "    <tr>\n",
              "      <th>4</th>\n",
              "      <td>1</td>\n",
              "      <td>1</td>\n",
              "      <td>SRH</td>\n",
              "      <td>RCB</td>\n",
              "      <td>1</td>\n",
              "      <td>5</td>\n",
              "      <td>DA Warner</td>\n",
              "      <td>S Dhawan</td>\n",
              "      <td>TS Mills</td>\n",
              "      <td>0</td>\n",
              "      <td>2</td>\n",
              "      <td>0</td>\n",
              "      <td>0</td>\n",
              "      <td>0</td>\n",
              "      <td>0</td>\n",
              "      <td>0</td>\n",
              "      <td>2</td>\n",
              "      <td>2</td>\n",
              "      <td>NaN</td>\n",
              "      <td>NaN</td>\n",
              "      <td>NaN</td>\n",
              "    </tr>\n",
              "    <tr>\n",
              "      <th>5</th>\n",
              "      <td>1</td>\n",
              "      <td>1</td>\n",
              "      <td>SRH</td>\n",
              "      <td>RCB</td>\n",
              "      <td>1</td>\n",
              "      <td>6</td>\n",
              "      <td>S Dhawan</td>\n",
              "      <td>DA Warner</td>\n",
              "      <td>TS Mills</td>\n",
              "      <td>0</td>\n",
              "      <td>0</td>\n",
              "      <td>0</td>\n",
              "      <td>0</td>\n",
              "      <td>0</td>\n",
              "      <td>0</td>\n",
              "      <td>0</td>\n",
              "      <td>0</td>\n",
              "      <td>0</td>\n",
              "      <td>NaN</td>\n",
              "      <td>NaN</td>\n",
              "      <td>NaN</td>\n",
              "    </tr>\n",
              "    <tr>\n",
              "      <th>6</th>\n",
              "      <td>1</td>\n",
              "      <td>1</td>\n",
              "      <td>SRH</td>\n",
              "      <td>RCB</td>\n",
              "      <td>1</td>\n",
              "      <td>7</td>\n",
              "      <td>S Dhawan</td>\n",
              "      <td>DA Warner</td>\n",
              "      <td>TS Mills</td>\n",
              "      <td>0</td>\n",
              "      <td>0</td>\n",
              "      <td>0</td>\n",
              "      <td>1</td>\n",
              "      <td>0</td>\n",
              "      <td>0</td>\n",
              "      <td>0</td>\n",
              "      <td>1</td>\n",
              "      <td>1</td>\n",
              "      <td>NaN</td>\n",
              "      <td>NaN</td>\n",
              "      <td>NaN</td>\n",
              "    </tr>\n",
              "    <tr>\n",
              "      <th>7</th>\n",
              "      <td>1</td>\n",
              "      <td>1</td>\n",
              "      <td>SRH</td>\n",
              "      <td>RCB</td>\n",
              "      <td>2</td>\n",
              "      <td>1</td>\n",
              "      <td>S Dhawan</td>\n",
              "      <td>DA Warner</td>\n",
              "      <td>A Choudhary</td>\n",
              "      <td>0</td>\n",
              "      <td>0</td>\n",
              "      <td>0</td>\n",
              "      <td>0</td>\n",
              "      <td>0</td>\n",
              "      <td>0</td>\n",
              "      <td>1</td>\n",
              "      <td>0</td>\n",
              "      <td>1</td>\n",
              "      <td>NaN</td>\n",
              "      <td>NaN</td>\n",
              "      <td>NaN</td>\n",
              "    </tr>\n",
              "    <tr>\n",
              "      <th>8</th>\n",
              "      <td>1</td>\n",
              "      <td>1</td>\n",
              "      <td>SRH</td>\n",
              "      <td>RCB</td>\n",
              "      <td>2</td>\n",
              "      <td>2</td>\n",
              "      <td>DA Warner</td>\n",
              "      <td>S Dhawan</td>\n",
              "      <td>A Choudhary</td>\n",
              "      <td>0</td>\n",
              "      <td>0</td>\n",
              "      <td>0</td>\n",
              "      <td>0</td>\n",
              "      <td>0</td>\n",
              "      <td>0</td>\n",
              "      <td>4</td>\n",
              "      <td>0</td>\n",
              "      <td>4</td>\n",
              "      <td>NaN</td>\n",
              "      <td>NaN</td>\n",
              "      <td>NaN</td>\n",
              "    </tr>\n",
              "    <tr>\n",
              "      <th>9</th>\n",
              "      <td>1</td>\n",
              "      <td>1</td>\n",
              "      <td>SRH</td>\n",
              "      <td>RCB</td>\n",
              "      <td>2</td>\n",
              "      <td>3</td>\n",
              "      <td>DA Warner</td>\n",
              "      <td>S Dhawan</td>\n",
              "      <td>A Choudhary</td>\n",
              "      <td>0</td>\n",
              "      <td>0</td>\n",
              "      <td>0</td>\n",
              "      <td>0</td>\n",
              "      <td>1</td>\n",
              "      <td>0</td>\n",
              "      <td>0</td>\n",
              "      <td>1</td>\n",
              "      <td>1</td>\n",
              "      <td>NaN</td>\n",
              "      <td>NaN</td>\n",
              "      <td>NaN</td>\n",
              "    </tr>\n",
              "    <tr>\n",
              "      <th>10</th>\n",
              "      <td>1</td>\n",
              "      <td>1</td>\n",
              "      <td>SRH</td>\n",
              "      <td>RCB</td>\n",
              "      <td>2</td>\n",
              "      <td>4</td>\n",
              "      <td>DA Warner</td>\n",
              "      <td>S Dhawan</td>\n",
              "      <td>A Choudhary</td>\n",
              "      <td>0</td>\n",
              "      <td>0</td>\n",
              "      <td>0</td>\n",
              "      <td>0</td>\n",
              "      <td>0</td>\n",
              "      <td>0</td>\n",
              "      <td>6</td>\n",
              "      <td>0</td>\n",
              "      <td>6</td>\n",
              "      <td>NaN</td>\n",
              "      <td>NaN</td>\n",
              "      <td>NaN</td>\n",
              "    </tr>\n",
              "    <tr>\n",
              "      <th>11</th>\n",
              "      <td>1</td>\n",
              "      <td>1</td>\n",
              "      <td>SRH</td>\n",
              "      <td>RCB</td>\n",
              "      <td>2</td>\n",
              "      <td>5</td>\n",
              "      <td>DA Warner</td>\n",
              "      <td>S Dhawan</td>\n",
              "      <td>A Choudhary</td>\n",
              "      <td>0</td>\n",
              "      <td>0</td>\n",
              "      <td>0</td>\n",
              "      <td>0</td>\n",
              "      <td>0</td>\n",
              "      <td>0</td>\n",
              "      <td>0</td>\n",
              "      <td>0</td>\n",
              "      <td>0</td>\n",
              "      <td>DA Warner</td>\n",
              "      <td>caught</td>\n",
              "      <td>Mandeep Singh</td>\n",
              "    </tr>\n",
              "    <tr>\n",
              "      <th>12</th>\n",
              "      <td>1</td>\n",
              "      <td>1</td>\n",
              "      <td>SRH</td>\n",
              "      <td>RCB</td>\n",
              "      <td>2</td>\n",
              "      <td>6</td>\n",
              "      <td>MC Henriques</td>\n",
              "      <td>S Dhawan</td>\n",
              "      <td>A Choudhary</td>\n",
              "      <td>0</td>\n",
              "      <td>0</td>\n",
              "      <td>0</td>\n",
              "      <td>0</td>\n",
              "      <td>0</td>\n",
              "      <td>0</td>\n",
              "      <td>0</td>\n",
              "      <td>0</td>\n",
              "      <td>0</td>\n",
              "      <td>NaN</td>\n",
              "      <td>NaN</td>\n",
              "      <td>NaN</td>\n",
              "    </tr>\n",
              "  </tbody>\n",
              "</table>\n",
              "</div>"
            ],
            "text/plain": [
              "    match_id  inning  ... dismissal_kind        fielder\n",
              "0          1       1  ...            NaN            NaN\n",
              "1          1       1  ...            NaN            NaN\n",
              "2          1       1  ...            NaN            NaN\n",
              "3          1       1  ...            NaN            NaN\n",
              "4          1       1  ...            NaN            NaN\n",
              "5          1       1  ...            NaN            NaN\n",
              "6          1       1  ...            NaN            NaN\n",
              "7          1       1  ...            NaN            NaN\n",
              "8          1       1  ...            NaN            NaN\n",
              "9          1       1  ...            NaN            NaN\n",
              "10         1       1  ...            NaN            NaN\n",
              "11         1       1  ...         caught  Mandeep Singh\n",
              "12         1       1  ...            NaN            NaN\n",
              "\n",
              "[13 rows x 21 columns]"
            ]
          },
          "metadata": {
            "tags": []
          },
          "execution_count": 36
        }
      ]
    },
    {
      "cell_type": "markdown",
      "metadata": {
        "id": "2HM7exfALUSr"
      },
      "source": [
        "# **Players Stats**"
      ]
    },
    {
      "cell_type": "markdown",
      "metadata": {
        "id": "W4RFtrbdTvbX"
      },
      "source": [
        "***Most Runs By a Batsman from 2008-2019***"
      ]
    },
    {
      "cell_type": "code",
      "metadata": {
        "id": "21BL-9gVLWuF",
        "outputId": "e71f00ea-46f5-4375-e6e6-a3b616d40a8c",
        "colab": {
          "base_uri": "https://localhost:8080/",
          "height": 577
        }
      },
      "source": [
        "plt.subplots(figsize=(14,8))\n",
        "b = deliveries.groupby(['batsman'])['batsman_runs'].sum()#.sort_values('batsman_runs')\n",
        "b = b.sort_values(ascending=False)\n",
        "b[100:200]\n",
        "\n",
        "playerstat=b.sort_values(ascending=False)[:10].plot.bar(width=0.8,color=sns.color_palette('husl',20))\n",
        "for p in playerstat.patches:\n",
        "    playerstat.annotate(format(p.get_height()), (p.get_x()+0.08, p.get_height()+50),fontsize=15)\n",
        "plt.title(\"Top 10 Batsman's With Most Runs from 2008-2019\",fontsize=25)\n",
        "plt.show()"
      ],
      "execution_count": null,
      "outputs": [
        {
          "output_type": "display_data",
          "data": {
            "image/png": "[encoded data removed]",
            "text/plain": [
              "<Figure size 1008x576 with 1 Axes>"
            ]
          },
          "metadata": {
            "tags": [],
            "needs_background": "light"
          }
        }
      ]
    },
    {
      "cell_type": "markdown",
      "metadata": {
        "id": "a3Vl1oLKSGkf"
      },
      "source": [
        "***Highest score from a player in individual matches from 2008-2019***"
      ]
    },
    {
      "cell_type": "code",
      "metadata": {
        "id": "riQa5c-QRP_k",
        "outputId": "a12861bf-5fd6-4d3e-a8b7-3a8bc78fcf83",
        "colab": {
          "base_uri": "https://localhost:8080/",
          "height": 347
        }
      },
      "source": [
        "top_scorers = deliveries.groupby([\"match_id\", \"batsman\",\"batting_team\",\"bowling_team\"])[\"batsman_runs\"].sum().reset_index()\n",
        "top_scorers.sort_values('batsman_runs', ascending=0).head(10)\n",
        "top_scorers.nlargest(10,'batsman_runs')"
      ],
      "execution_count": null,
      "outputs": [
        {
          "output_type": "execute_result",
          "data": {
            "text/html": [
              "<div>\n",
              "<style scoped>\n",
              "    .dataframe tbody tr th:only-of-type {\n",
              "        vertical-align: middle;\n",
              "    }\n",
              "\n",
              "    .dataframe tbody tr th {\n",
              "        vertical-align: top;\n",
              "    }\n",
              "\n",
              "    .dataframe thead th {\n",
              "        text-align: right;\n",
              "    }\n",
              "</style>\n",
              "<table border=\"1\" class=\"dataframe\">\n",
              "  <thead>\n",
              "    <tr style=\"text-align: right;\">\n",
              "      <th></th>\n",
              "      <th>match_id</th>\n",
              "      <th>batsman</th>\n",
              "      <th>batting_team</th>\n",
              "      <th>bowling_team</th>\n",
              "      <th>batsman_runs</th>\n",
              "    </tr>\n",
              "  </thead>\n",
              "  <tbody>\n",
              "    <tr>\n",
              "      <th>6200</th>\n",
              "      <td>411</td>\n",
              "      <td>CH Gayle</td>\n",
              "      <td>RCB</td>\n",
              "      <td>PW</td>\n",
              "      <td>175</td>\n",
              "    </tr>\n",
              "    <tr>\n",
              "      <th>900</th>\n",
              "      <td>60</td>\n",
              "      <td>BB McCullum</td>\n",
              "      <td>KKR</td>\n",
              "      <td>RCB</td>\n",
              "      <td>158</td>\n",
              "    </tr>\n",
              "    <tr>\n",
              "      <th>8426</th>\n",
              "      <td>562</td>\n",
              "      <td>AB de Villiers</td>\n",
              "      <td>RCB</td>\n",
              "      <td>MI</td>\n",
              "      <td>133</td>\n",
              "    </tr>\n",
              "    <tr>\n",
              "      <th>10149</th>\n",
              "      <td>7935</td>\n",
              "      <td>RR Pant</td>\n",
              "      <td>DD</td>\n",
              "      <td>SRH</td>\n",
              "      <td>130</td>\n",
              "    </tr>\n",
              "    <tr>\n",
              "      <th>9257</th>\n",
              "      <td>620</td>\n",
              "      <td>AB de Villiers</td>\n",
              "      <td>RCB</td>\n",
              "      <td>GL</td>\n",
              "      <td>129</td>\n",
              "    </tr>\n",
              "    <tr>\n",
              "      <th>5585</th>\n",
              "      <td>372</td>\n",
              "      <td>CH Gayle</td>\n",
              "      <td>RCB</td>\n",
              "      <td>DD</td>\n",
              "      <td>128</td>\n",
              "    </tr>\n",
              "    <tr>\n",
              "      <th>3135</th>\n",
              "      <td>206</td>\n",
              "      <td>M Vijay</td>\n",
              "      <td>CSK</td>\n",
              "      <td>RR</td>\n",
              "      <td>127</td>\n",
              "    </tr>\n",
              "    <tr>\n",
              "      <th>529</th>\n",
              "      <td>36</td>\n",
              "      <td>DA Warner</td>\n",
              "      <td>SRH</td>\n",
              "      <td>KKR</td>\n",
              "      <td>126</td>\n",
              "    </tr>\n",
              "    <tr>\n",
              "      <th>7752</th>\n",
              "      <td>516</td>\n",
              "      <td>V Sehwag</td>\n",
              "      <td>KXIP</td>\n",
              "      <td>CSK</td>\n",
              "      <td>122</td>\n",
              "    </tr>\n",
              "    <tr>\n",
              "      <th>10417</th>\n",
              "      <td>7953</td>\n",
              "      <td>SR Watson</td>\n",
              "      <td>CSK</td>\n",
              "      <td>SRH</td>\n",
              "      <td>121</td>\n",
              "    </tr>\n",
              "  </tbody>\n",
              "</table>\n",
              "</div>"
            ],
            "text/plain": [
              "       match_id         batsman batting_team bowling_team  batsman_runs\n",
              "6200        411        CH Gayle          RCB           PW           175\n",
              "900          60     BB McCullum          KKR          RCB           158\n",
              "8426        562  AB de Villiers          RCB           MI           133\n",
              "10149      7935         RR Pant           DD          SRH           130\n",
              "9257        620  AB de Villiers          RCB           GL           129\n",
              "5585        372        CH Gayle          RCB           DD           128\n",
              "3135        206         M Vijay          CSK           RR           127\n",
              "529          36       DA Warner          SRH          KKR           126\n",
              "7752        516        V Sehwag         KXIP          CSK           122\n",
              "10417      7953       SR Watson          CSK          SRH           121"
            ]
          },
          "metadata": {
            "tags": []
          },
          "execution_count": 38
        }
      ]
    },
    {
      "cell_type": "markdown",
      "metadata": {
        "id": "ZpRAVHpnV3Hj"
      },
      "source": [
        "***Most numbers of, Man of the Match***"
      ]
    },
    {
      "cell_type": "code",
      "metadata": {
        "id": "3icGbX_zVYL1",
        "outputId": "a56bd357-a10a-47f5-e678-64fd54bde369",
        "colab": {
          "base_uri": "https://localhost:8080/",
          "height": 353
        }
      },
      "source": [
        "p_of_m=matches.groupby('player_of_match')['player_of_match'].count()\n",
        "A=pd.DataFrame(p_of_m)\n",
        "A.rename(columns={'player_of_match':'Number of MOM'},inplace=True)\n",
        "A.sort_values(\"Number of MOM\",inplace=True,ascending=False)\n",
        "A=A.reset_index()\n",
        "A=A.iloc[:5,:]\n",
        "sns.barplot(A['player_of_match'] ,A['Number of MOM'])\n"
      ],
      "execution_count": null,
      "outputs": [
        {
          "output_type": "stream",
          "text": [
            "/usr/local/lib/python3.6/dist-packages/seaborn/_decorators.py:43: FutureWarning: Pass the following variables as keyword args: x, y. From version 0.12, the only valid positional argument will be `data`, and passing other arguments without an explicit keyword will result in an error or misinterpretation.\n",
            "  FutureWarning\n"
          ],
          "name": "stderr"
        },
        {
          "output_type": "execute_result",
          "data": {
            "text/plain": [
              "<matplotlib.axes._subplots.AxesSubplot at 0x7fa6fa19c668>"
            ]
          },
          "metadata": {
            "tags": []
          },
          "execution_count": 39
        },
        {
          "output_type": "display_data",
          "data": {
            "image/png": "[encoded data removed]",
            "text/plain": [
              "<Figure size 432x288 with 1 Axes>"
            ]
          },
          "metadata": {
            "tags": [],
            "needs_background": "light"
          }
        }
      ]
    },
    {
      "cell_type": "markdown",
      "metadata": {
        "id": "0AaypC5SVW7b"
      },
      "source": [
        "# **Team wise Performance**"
      ]
    },
    {
      "cell_type": "markdown",
      "metadata": {
        "id": "hgA8iBttXg9s"
      },
      "source": [
        "***Most win by any team across all seasons***"
      ]
    },
    {
      "cell_type": "code",
      "metadata": {
        "id": "txe9kvTSTGUL",
        "outputId": "0b42d4a5-1316-481f-ea4b-3f4fe70460a4",
        "colab": {
          "base_uri": "https://localhost:8080/",
          "height": 247
        }
      },
      "source": [
        "groupby_year = matches.groupby('Season')['winner'].value_counts()\n",
        "groupby_year"
      ],
      "execution_count": null,
      "outputs": [
        {
          "output_type": "execute_result",
          "data": {
            "text/plain": [
              "Season    winner\n",
              "IPL-2008  RR        13\n",
              "          KXIP      10\n",
              "          CSK        9\n",
              "          DD         7\n",
              "          MI         7\n",
              "                    ..\n",
              "IPL-2019  KXIP       6\n",
              "          SRH        6\n",
              "          RCB        5\n",
              "          RR         5\n",
              "          Draw       1\n",
              "Name: winner, Length: 103, dtype: int64"
            ]
          },
          "metadata": {
            "tags": []
          },
          "execution_count": 40
        }
      ]
    },
    {
      "cell_type": "code",
      "metadata": {
        "id": "g6vUcHrMX0b1",
        "outputId": "c4433d13-117a-4534-bc0a-212d2a7a3b2a",
        "colab": {
          "base_uri": "https://localhost:8080/",
          "height": 584
        }
      },
      "source": [
        "plt.figure(figsize=(14,8))\n",
        "mat=matches.winner.value_counts().plot(kind='bar', color='#183')\n",
        "for p in mat.patches:\n",
        "    mat.annotate(format(p.get_height()), (p.get_x()+0.05, p.get_height()+1),fontsize=10)\n",
        "plt.xlabel('Teams',fontsize=15)\n",
        "plt.ylabel('Number of Matches',fontsize=15)\n",
        "plt.title('Wins by Teams in all Seasons from 2008-2019', size=25)\n",
        "plt.tight_layout()"
      ],
      "execution_count": null,
      "outputs": [
        {
          "output_type": "display_data",
          "data": {
            "image/png": "[encoded data removed]",
            "text/plain": [
              "<Figure size 1008x576 with 1 Axes>"
            ]
          },
          "metadata": {
            "tags": [],
            "needs_background": "light"
          }
        }
      ]
    },
    {
      "cell_type": "markdown",
      "metadata": {
        "id": "JxhigNx3bOvJ"
      },
      "source": [
        "***Teams Scored 200+***"
      ]
    },
    {
      "cell_type": "code",
      "metadata": {
        "id": "kqhxfEi-bG4L",
        "outputId": "4ee6a034-0ed7-43dc-e2d5-fc36118ca973",
        "colab": {
          "base_uri": "https://localhost:8080/",
          "height": 347
        }
      },
      "source": [
        "high_scores=deliveries.groupby(['match_id', 'inning','batting_team','bowling_team'])['total_runs'].sum().reset_index() \n",
        "high_scores=high_scores[high_scores['total_runs']>=200]\n",
        "high_scores.nlargest(10,'total_runs')"
      ],
      "execution_count": null,
      "outputs": [
        {
          "output_type": "execute_result",
          "data": {
            "text/html": [
              "<div>\n",
              "<style scoped>\n",
              "    .dataframe tbody tr th:only-of-type {\n",
              "        vertical-align: middle;\n",
              "    }\n",
              "\n",
              "    .dataframe tbody tr th {\n",
              "        vertical-align: top;\n",
              "    }\n",
              "\n",
              "    .dataframe thead th {\n",
              "        text-align: right;\n",
              "    }\n",
              "</style>\n",
              "<table border=\"1\" class=\"dataframe\">\n",
              "  <thead>\n",
              "    <tr style=\"text-align: right;\">\n",
              "      <th></th>\n",
              "      <th>match_id</th>\n",
              "      <th>inning</th>\n",
              "      <th>batting_team</th>\n",
              "      <th>bowling_team</th>\n",
              "      <th>total_runs</th>\n",
              "    </tr>\n",
              "  </thead>\n",
              "  <tbody>\n",
              "    <tr>\n",
              "      <th>829</th>\n",
              "      <td>411</td>\n",
              "      <td>1</td>\n",
              "      <td>RCB</td>\n",
              "      <td>PW</td>\n",
              "      <td>263</td>\n",
              "    </tr>\n",
              "    <tr>\n",
              "      <th>1370</th>\n",
              "      <td>7937</td>\n",
              "      <td>1</td>\n",
              "      <td>KKR</td>\n",
              "      <td>KXIP</td>\n",
              "      <td>250</td>\n",
              "    </tr>\n",
              "    <tr>\n",
              "      <th>1250</th>\n",
              "      <td>620</td>\n",
              "      <td>1</td>\n",
              "      <td>RCB</td>\n",
              "      <td>GL</td>\n",
              "      <td>248</td>\n",
              "    </tr>\n",
              "    <tr>\n",
              "      <th>416</th>\n",
              "      <td>206</td>\n",
              "      <td>1</td>\n",
              "      <td>CSK</td>\n",
              "      <td>RR</td>\n",
              "      <td>246</td>\n",
              "    </tr>\n",
              "    <tr>\n",
              "      <th>1498</th>\n",
              "      <td>11338</td>\n",
              "      <td>1</td>\n",
              "      <td>KKR</td>\n",
              "      <td>MI</td>\n",
              "      <td>241</td>\n",
              "    </tr>\n",
              "    <tr>\n",
              "      <th>122</th>\n",
              "      <td>61</td>\n",
              "      <td>1</td>\n",
              "      <td>CSK</td>\n",
              "      <td>KXIP</td>\n",
              "      <td>240</td>\n",
              "    </tr>\n",
              "    <tr>\n",
              "      <th>1134</th>\n",
              "      <td>562</td>\n",
              "      <td>1</td>\n",
              "      <td>RCB</td>\n",
              "      <td>MI</td>\n",
              "      <td>235</td>\n",
              "    </tr>\n",
              "    <tr>\n",
              "      <th>1426</th>\n",
              "      <td>11147</td>\n",
              "      <td>1</td>\n",
              "      <td>SRH</td>\n",
              "      <td>RCB</td>\n",
              "      <td>233</td>\n",
              "    </tr>\n",
              "    <tr>\n",
              "      <th>596</th>\n",
              "      <td>296</td>\n",
              "      <td>1</td>\n",
              "      <td>KXIP</td>\n",
              "      <td>RCB</td>\n",
              "      <td>232</td>\n",
              "    </tr>\n",
              "    <tr>\n",
              "      <th>1500</th>\n",
              "      <td>11339</td>\n",
              "      <td>1</td>\n",
              "      <td>SRH</td>\n",
              "      <td>KXIP</td>\n",
              "      <td>232</td>\n",
              "    </tr>\n",
              "  </tbody>\n",
              "</table>\n",
              "</div>"
            ],
            "text/plain": [
              "      match_id  inning batting_team bowling_team  total_runs\n",
              "829        411       1          RCB           PW         263\n",
              "1370      7937       1          KKR         KXIP         250\n",
              "1250       620       1          RCB           GL         248\n",
              "416        206       1          CSK           RR         246\n",
              "1498     11338       1          KKR           MI         241\n",
              "122         61       1          CSK         KXIP         240\n",
              "1134       562       1          RCB           MI         235\n",
              "1426     11147       1          SRH          RCB         233\n",
              "596        296       1         KXIP          RCB         232\n",
              "1500     11339       1          SRH         KXIP         232"
            ]
          },
          "metadata": {
            "tags": []
          },
          "execution_count": 42
        }
      ]
    },
    {
      "cell_type": "markdown",
      "metadata": {
        "id": "oasEoUFbepMe"
      },
      "source": [
        "***Teams with highest average batting score***\n",
        "\n",
        "\n",
        "---\n",
        "---\n",
        "\n",
        "***`Finding Total matches played by teams`***\n",
        "\n",
        "---\n",
        "---\n",
        "\n"
      ]
    },
    {
      "cell_type": "code",
      "metadata": {
        "id": "RXdBwgX1cjNS",
        "outputId": "9dafb1e7-aada-4238-b535-43c18f45fade",
        "colab": {
          "base_uri": "https://localhost:8080/",
          "height": 283
        }
      },
      "source": [
        "stat=deliveries.groupby('batting_team')['total_runs'].sum()\n",
        "\n",
        "print('Total matches played by teams\\n')\n",
        "print('CSK -',len(matches[matches['team1']=='CSK']) + len(matches[matches['team2']=='CSK']))\n",
        "print('MI -',len(matches[matches['team1']=='MI']) + len(matches[matches['team2']=='MI']))\n",
        "print('KKR -',len(matches[matches['team1']=='KKR']) + len(matches[matches['team2']=='KKR']))\n",
        "print('RR -',len(matches[matches['team1']=='RR']) + len(matches[matches['team2']=='RR']))\n",
        "print('RCB -',len(matches[matches['team1']=='RCB']) + len(matches[matches['team2']=='RCB']))\n",
        "print('KXIP -',len(matches[matches['team1']=='KXIP']) + len(matches[matches['team2']=='KXIP']))\n",
        "print('DD -',len(matches[matches['team1']=='DD'])+ len(matches[matches['team2']=='DD']))\n",
        "print('SRH -',len(matches[matches['team1']=='SRH']) + len(matches[matches['team2']=='SRH']))\n",
        "print('GL -',len(matches[matches['team1']=='GL'])+ len(matches[matches['team2']=='GL']))\n",
        "print('RPS -',len(matches[matches['team1']=='RPS'])+ len(matches[matches['team2']=='RPS']))\n",
        "print('KTK -',len(matches[matches['team1']=='KTK'])+ len(matches[matches['team2']=='KTK']))\n",
        "print('PW -',len(matches[matches['team1']=='PW'])+ len(matches[matches['team2']=='PW']))\n",
        "print('DC -',len(matches[matches['team1']=='DC'])+ len(matches[matches['team2']=='DC']))"
      ],
      "execution_count": null,
      "outputs": [
        {
          "output_type": "stream",
          "text": [
            "Total matches played by teams\n",
            "\n",
            "CSK - 164\n",
            "MI - 187\n",
            "KKR - 178\n",
            "RR - 147\n",
            "RCB - 180\n",
            "KXIP - 176\n",
            "DD - 177\n",
            "SRH - 108\n",
            "GL - 30\n",
            "RPS - 30\n",
            "KTK - 14\n",
            "PW - 46\n",
            "DC - 75\n"
          ],
          "name": "stdout"
        }
      ]
    },
    {
      "cell_type": "markdown",
      "metadata": {
        "id": "FWOO4OclOxS5"
      },
      "source": [
        "---\n",
        "---\n",
        "\n",
        "***`Avg Batting Scores By all teams`***\n",
        "\n",
        "---\n",
        "---"
      ]
    },
    {
      "cell_type": "code",
      "metadata": {
        "id": "zPm9PYVElix3",
        "outputId": "b2a9b4bc-60c6-4d1e-d78b-98bdd16d2238",
        "colab": {
          "base_uri": "https://localhost:8080/",
          "height": 283
        }
      },
      "source": [
        "print('BATTING AVERAGE SCORE BY ALL TEAMS\\n')\n",
        "print('Chennai Super Kings average score :',  stat['CSK']/164)\n",
        "print('Mumbai Indians average score :',  stat['MI']/187)\n",
        "print('Kolkata Knight Riders score :',  stat['KKR']/178)\n",
        "print('Rajasthan Royals average score :',  stat['RR']/147)\n",
        "print('Royal Challangers Banglore average score :',  stat['RCB']/180)\n",
        "print('King XI Punjab average score :',  stat['KXIP']/176)\n",
        "print('Delhi Capitals average score :',stat['DD']/177)\n",
        "print('Sunrisers Hydrabad average score :',  stat['SRH']/108)\n",
        "print('Gujrat Lions average score :',stat['GL']/30)\n",
        "print('Raising Pune Supergaints average score :',stat['RPS']/30)\n",
        "print('Kochi Tuskers Kerala average score :',stat['KTK']/14)\n",
        "print('Pune Warriors average score :',stat['PW']/46)\n",
        "print('Deccan Chargers average score :',stat['DC']/75)\n"
      ],
      "execution_count": null,
      "outputs": [
        {
          "output_type": "stream",
          "text": [
            "BATTING AVERAGE SCORE BY ALL TEAMS\n",
            "\n",
            "Chennai Super Kings average score : 161.08536585365854\n",
            "Mumbai Indians average score : 159.40641711229947\n",
            "Kolkata Knight Riders score : 154.03932584269663\n",
            "Rajasthan Royals average score : 152.59183673469389\n",
            "Royal Challangers Banglore average score : 156.25555555555556\n",
            "King XI Punjab average score : 158.48295454545453\n",
            "Delhi Capitals average score : 152.64406779661016\n",
            "Sunrisers Hydrabad average score : 157.9537037037037\n",
            "Gujrat Lions average score : 162.06666666666666\n",
            "Raising Pune Supergaints average score : 151.1\n",
            "Kochi Tuskers Kerala average score : 135.78571428571428\n",
            "Pune Warriors average score : 138.2173913043478\n",
            "Deccan Chargers average score : 152.84\n"
          ],
          "name": "stdout"
        }
      ]
    },
    {
      "cell_type": "markdown",
      "metadata": {
        "id": "WT1W41X_yL-c"
      },
      "source": [
        "# **Clean and Shape Data for prediction**"
      ]
    },
    {
      "cell_type": "markdown",
      "metadata": {
        "id": "mm8JzeieLcJ3"
      },
      "source": [
        "***Encoding teams for prediction***\n",
        "\n",
        "---\n",
        "\n",
        "***Convert all Categorial data to numerical data***\n"
      ]
    },
    {
      "cell_type": "code",
      "metadata": {
        "id": "7mLdTtfKEEEn",
        "outputId": "7e854d59-0459-4c56-df24-24af5189d02b",
        "colab": {
          "base_uri": "https://localhost:8080/",
          "height": 244
        }
      },
      "source": [
        "encode = {'team1': {'MI':1,'KKR':2,'RCB':3,'DC':4,'CSK':5,'RR':6,'DD':7,'GL':8,'KXIP':9,'SRH':10,'RPS':11,'KTK':12,'PW':13,},\n",
        "          'team2': {'MI':1,'KKR':2,'RCB':3,'DC':4,'CSK':5,'RR':6,'DD':7,'GL':8,'KXIP':9,'SRH':10,'RPS':11,'KTK':12,'PW':13,},\n",
        "          'toss_winner': {'MI':1,'KKR':2,'RCB':3,'DC':4,'CSK':5,'RR':6,'DD':7,'GL':8,'KXIP':9,'SRH':10,'RPS':11,'KTK':12,'PW':13,},\n",
        "          'winner': {'MI':1,'KKR':2,'RCB':3,'DC':4,'CSK':5,'RR':6,'DD':7,'GL':8,'KXIP':9,'SRH':10,'RPS':11,'KTK':12,'PW':13,'Draw':14}}\n",
        "matches.replace(encode, inplace=True)\n",
        "matches.head(2)          \n",
        "# Team initials are encoded with Id's with label encoder"
      ],
      "execution_count": null,
      "outputs": [
        {
          "output_type": "execute_result",
          "data": {
            "text/html": [
              "<div>\n",
              "<style scoped>\n",
              "    .dataframe tbody tr th:only-of-type {\n",
              "        vertical-align: middle;\n",
              "    }\n",
              "\n",
              "    .dataframe tbody tr th {\n",
              "        vertical-align: top;\n",
              "    }\n",
              "\n",
              "    .dataframe thead th {\n",
              "        text-align: right;\n",
              "    }\n",
              "</style>\n",
              "<table border=\"1\" class=\"dataframe\">\n",
              "  <thead>\n",
              "    <tr style=\"text-align: right;\">\n",
              "      <th></th>\n",
              "      <th>id</th>\n",
              "      <th>Season</th>\n",
              "      <th>city</th>\n",
              "      <th>date</th>\n",
              "      <th>team1</th>\n",
              "      <th>team2</th>\n",
              "      <th>toss_winner</th>\n",
              "      <th>toss_decision</th>\n",
              "      <th>result</th>\n",
              "      <th>dl_applied</th>\n",
              "      <th>winner</th>\n",
              "      <th>win_by_runs</th>\n",
              "      <th>win_by_wickets</th>\n",
              "      <th>player_of_match</th>\n",
              "      <th>venue</th>\n",
              "      <th>umpire1</th>\n",
              "      <th>umpire2</th>\n",
              "      <th>umpire3</th>\n",
              "    </tr>\n",
              "  </thead>\n",
              "  <tbody>\n",
              "    <tr>\n",
              "      <th>0</th>\n",
              "      <td>1</td>\n",
              "      <td>IPL-2017</td>\n",
              "      <td>Hyderabad</td>\n",
              "      <td>05-04-2017</td>\n",
              "      <td>10</td>\n",
              "      <td>3</td>\n",
              "      <td>3</td>\n",
              "      <td>field</td>\n",
              "      <td>normal</td>\n",
              "      <td>0</td>\n",
              "      <td>10</td>\n",
              "      <td>35</td>\n",
              "      <td>0</td>\n",
              "      <td>Yuvraj Singh</td>\n",
              "      <td>Rajiv Gandhi International Stadium, Uppal</td>\n",
              "      <td>AY Dandekar</td>\n",
              "      <td>NJ Llong</td>\n",
              "      <td>NaN</td>\n",
              "    </tr>\n",
              "    <tr>\n",
              "      <th>1</th>\n",
              "      <td>2</td>\n",
              "      <td>IPL-2017</td>\n",
              "      <td>Pune</td>\n",
              "      <td>06-04-2017</td>\n",
              "      <td>1</td>\n",
              "      <td>11</td>\n",
              "      <td>11</td>\n",
              "      <td>field</td>\n",
              "      <td>normal</td>\n",
              "      <td>0</td>\n",
              "      <td>11</td>\n",
              "      <td>0</td>\n",
              "      <td>7</td>\n",
              "      <td>SPD Smith</td>\n",
              "      <td>Maharashtra Cricket Association Stadium</td>\n",
              "      <td>A Nand Kishore</td>\n",
              "      <td>S Ravi</td>\n",
              "      <td>NaN</td>\n",
              "    </tr>\n",
              "  </tbody>\n",
              "</table>\n",
              "</div>"
            ],
            "text/plain": [
              "   id    Season       city  ...         umpire1   umpire2  umpire3\n",
              "0   1  IPL-2017  Hyderabad  ...     AY Dandekar  NJ Llong      NaN\n",
              "1   2  IPL-2017       Pune  ...  A Nand Kishore    S Ravi      NaN\n",
              "\n",
              "[2 rows x 18 columns]"
            ]
          },
          "metadata": {
            "tags": []
          },
          "execution_count": 45
        }
      ]
    },
    {
      "cell_type": "markdown",
      "metadata": {
        "id": "dlD3JSzsMVnL"
      },
      "source": [
        "***Find cities with null values and replace with venue cities***"
      ]
    },
    {
      "cell_type": "code",
      "metadata": {
        "id": "KweL7TVAMRmk",
        "outputId": "cd72e40e-09c2-4534-a3fc-bfa14b3f2eaa",
        "colab": {
          "base_uri": "https://localhost:8080/",
          "height": 627
        }
      },
      "source": [
        "matches[pd.isnull(matches['city'])]"
      ],
      "execution_count": null,
      "outputs": [
        {
          "output_type": "execute_result",
          "data": {
            "text/html": [
              "<div>\n",
              "<style scoped>\n",
              "    .dataframe tbody tr th:only-of-type {\n",
              "        vertical-align: middle;\n",
              "    }\n",
              "\n",
              "    .dataframe tbody tr th {\n",
              "        vertical-align: top;\n",
              "    }\n",
              "\n",
              "    .dataframe thead th {\n",
              "        text-align: right;\n",
              "    }\n",
              "</style>\n",
              "<table border=\"1\" class=\"dataframe\">\n",
              "  <thead>\n",
              "    <tr style=\"text-align: right;\">\n",
              "      <th></th>\n",
              "      <th>id</th>\n",
              "      <th>Season</th>\n",
              "      <th>city</th>\n",
              "      <th>date</th>\n",
              "      <th>team1</th>\n",
              "      <th>team2</th>\n",
              "      <th>toss_winner</th>\n",
              "      <th>toss_decision</th>\n",
              "      <th>result</th>\n",
              "      <th>dl_applied</th>\n",
              "      <th>winner</th>\n",
              "      <th>win_by_runs</th>\n",
              "      <th>win_by_wickets</th>\n",
              "      <th>player_of_match</th>\n",
              "      <th>venue</th>\n",
              "      <th>umpire1</th>\n",
              "      <th>umpire2</th>\n",
              "      <th>umpire3</th>\n",
              "    </tr>\n",
              "  </thead>\n",
              "  <tbody>\n",
              "    <tr>\n",
              "      <th>461</th>\n",
              "      <td>462</td>\n",
              "      <td>IPL-2014</td>\n",
              "      <td>NaN</td>\n",
              "      <td>19-04-2014</td>\n",
              "      <td>1</td>\n",
              "      <td>3</td>\n",
              "      <td>3</td>\n",
              "      <td>field</td>\n",
              "      <td>normal</td>\n",
              "      <td>0</td>\n",
              "      <td>3</td>\n",
              "      <td>0</td>\n",
              "      <td>7</td>\n",
              "      <td>PA Patel</td>\n",
              "      <td>Dubai International Cricket Stadium</td>\n",
              "      <td>Aleem Dar</td>\n",
              "      <td>AK Chaudhary</td>\n",
              "      <td>NaN</td>\n",
              "    </tr>\n",
              "    <tr>\n",
              "      <th>462</th>\n",
              "      <td>463</td>\n",
              "      <td>IPL-2014</td>\n",
              "      <td>NaN</td>\n",
              "      <td>19-04-2014</td>\n",
              "      <td>2</td>\n",
              "      <td>7</td>\n",
              "      <td>2</td>\n",
              "      <td>bat</td>\n",
              "      <td>normal</td>\n",
              "      <td>0</td>\n",
              "      <td>7</td>\n",
              "      <td>0</td>\n",
              "      <td>4</td>\n",
              "      <td>JP Duminy</td>\n",
              "      <td>Dubai International Cricket Stadium</td>\n",
              "      <td>Aleem Dar</td>\n",
              "      <td>VA Kulkarni</td>\n",
              "      <td>NaN</td>\n",
              "    </tr>\n",
              "    <tr>\n",
              "      <th>466</th>\n",
              "      <td>467</td>\n",
              "      <td>IPL-2014</td>\n",
              "      <td>NaN</td>\n",
              "      <td>23-04-2014</td>\n",
              "      <td>5</td>\n",
              "      <td>6</td>\n",
              "      <td>6</td>\n",
              "      <td>field</td>\n",
              "      <td>normal</td>\n",
              "      <td>0</td>\n",
              "      <td>5</td>\n",
              "      <td>7</td>\n",
              "      <td>0</td>\n",
              "      <td>RA Jadeja</td>\n",
              "      <td>Dubai International Cricket Stadium</td>\n",
              "      <td>HDPK Dharmasena</td>\n",
              "      <td>RK Illingworth</td>\n",
              "      <td>NaN</td>\n",
              "    </tr>\n",
              "    <tr>\n",
              "      <th>468</th>\n",
              "      <td>469</td>\n",
              "      <td>IPL-2014</td>\n",
              "      <td>NaN</td>\n",
              "      <td>25-04-2014</td>\n",
              "      <td>10</td>\n",
              "      <td>7</td>\n",
              "      <td>10</td>\n",
              "      <td>bat</td>\n",
              "      <td>normal</td>\n",
              "      <td>0</td>\n",
              "      <td>10</td>\n",
              "      <td>4</td>\n",
              "      <td>0</td>\n",
              "      <td>AJ Finch</td>\n",
              "      <td>Dubai International Cricket Stadium</td>\n",
              "      <td>M Erasmus</td>\n",
              "      <td>S Ravi</td>\n",
              "      <td>NaN</td>\n",
              "    </tr>\n",
              "    <tr>\n",
              "      <th>469</th>\n",
              "      <td>470</td>\n",
              "      <td>IPL-2014</td>\n",
              "      <td>NaN</td>\n",
              "      <td>25-04-2014</td>\n",
              "      <td>1</td>\n",
              "      <td>5</td>\n",
              "      <td>1</td>\n",
              "      <td>bat</td>\n",
              "      <td>normal</td>\n",
              "      <td>0</td>\n",
              "      <td>5</td>\n",
              "      <td>0</td>\n",
              "      <td>7</td>\n",
              "      <td>MM Sharma</td>\n",
              "      <td>Dubai International Cricket Stadium</td>\n",
              "      <td>BF Bowden</td>\n",
              "      <td>M Erasmus</td>\n",
              "      <td>NaN</td>\n",
              "    </tr>\n",
              "    <tr>\n",
              "      <th>474</th>\n",
              "      <td>475</td>\n",
              "      <td>IPL-2014</td>\n",
              "      <td>NaN</td>\n",
              "      <td>28-04-2014</td>\n",
              "      <td>3</td>\n",
              "      <td>9</td>\n",
              "      <td>9</td>\n",
              "      <td>field</td>\n",
              "      <td>normal</td>\n",
              "      <td>0</td>\n",
              "      <td>9</td>\n",
              "      <td>0</td>\n",
              "      <td>5</td>\n",
              "      <td>Sandeep Sharma</td>\n",
              "      <td>Dubai International Cricket Stadium</td>\n",
              "      <td>BF Bowden</td>\n",
              "      <td>S Ravi</td>\n",
              "      <td>NaN</td>\n",
              "    </tr>\n",
              "    <tr>\n",
              "      <th>476</th>\n",
              "      <td>477</td>\n",
              "      <td>IPL-2014</td>\n",
              "      <td>NaN</td>\n",
              "      <td>30-04-2014</td>\n",
              "      <td>10</td>\n",
              "      <td>1</td>\n",
              "      <td>1</td>\n",
              "      <td>field</td>\n",
              "      <td>normal</td>\n",
              "      <td>0</td>\n",
              "      <td>10</td>\n",
              "      <td>15</td>\n",
              "      <td>0</td>\n",
              "      <td>B Kumar</td>\n",
              "      <td>Dubai International Cricket Stadium</td>\n",
              "      <td>HDPK Dharmasena</td>\n",
              "      <td>M Erasmus</td>\n",
              "      <td>NaN</td>\n",
              "    </tr>\n",
              "  </tbody>\n",
              "</table>\n",
              "</div>"
            ],
            "text/plain": [
              "      id    Season city  ...          umpire1         umpire2  umpire3\n",
              "461  462  IPL-2014  NaN  ...        Aleem Dar    AK Chaudhary      NaN\n",
              "462  463  IPL-2014  NaN  ...        Aleem Dar     VA Kulkarni      NaN\n",
              "466  467  IPL-2014  NaN  ...  HDPK Dharmasena  RK Illingworth      NaN\n",
              "468  469  IPL-2014  NaN  ...        M Erasmus          S Ravi      NaN\n",
              "469  470  IPL-2014  NaN  ...        BF Bowden       M Erasmus      NaN\n",
              "474  475  IPL-2014  NaN  ...        BF Bowden          S Ravi      NaN\n",
              "476  477  IPL-2014  NaN  ...  HDPK Dharmasena       M Erasmus      NaN\n",
              "\n",
              "[7 rows x 18 columns]"
            ]
          },
          "metadata": {
            "tags": []
          },
          "execution_count": 46
        }
      ]
    },
    {
      "cell_type": "markdown",
      "metadata": {
        "id": "5sa7SQfEy4As"
      },
      "source": [
        "***here we got Dubai International Cricket Stadium as venue, so replacing null city to Dubai***"
      ]
    },
    {
      "cell_type": "code",
      "metadata": {
        "id": "OyJgLSspNGar",
        "outputId": "d2c2629d-6478-4f01-8720-27ca55cd8dd7",
        "colab": {
          "base_uri": "https://localhost:8080/",
          "height": 461
        }
      },
      "source": [
        "\n",
        "matches['city'].fillna('Dubai',inplace=True)\n",
        "matches.info()"
      ],
      "execution_count": null,
      "outputs": [
        {
          "output_type": "stream",
          "text": [
            "<class 'pandas.core.frame.DataFrame'>\n",
            "RangeIndex: 756 entries, 0 to 755\n",
            "Data columns (total 18 columns):\n",
            " #   Column           Non-Null Count  Dtype \n",
            "---  ------           --------------  ----- \n",
            " 0   id               756 non-null    int64 \n",
            " 1   Season           756 non-null    object\n",
            " 2   city             756 non-null    object\n",
            " 3   date             756 non-null    object\n",
            " 4   team1            756 non-null    int64 \n",
            " 5   team2            756 non-null    int64 \n",
            " 6   toss_winner      756 non-null    int64 \n",
            " 7   toss_decision    756 non-null    object\n",
            " 8   result           756 non-null    object\n",
            " 9   dl_applied       756 non-null    int64 \n",
            " 10  winner           756 non-null    int64 \n",
            " 11  win_by_runs      756 non-null    int64 \n",
            " 12  win_by_wickets   756 non-null    int64 \n",
            " 13  player_of_match  752 non-null    object\n",
            " 14  venue            756 non-null    object\n",
            " 15  umpire1          754 non-null    object\n",
            " 16  umpire2          754 non-null    object\n",
            " 17  umpire3          119 non-null    object\n",
            "dtypes: int64(8), object(10)\n",
            "memory usage: 106.4+ KB\n"
          ],
          "name": "stdout"
        }
      ]
    },
    {
      "cell_type": "code",
      "metadata": {
        "id": "6Td4IxbRNblW",
        "outputId": "a4c4443c-07b7-496d-9403-7aa4d85b0cf2",
        "colab": {
          "base_uri": "https://localhost:8080/",
          "height": 585
        }
      },
      "source": [
        "x=matches.groupby([\"toss_winner\"]).size()\n",
        "y=matches.groupby([\"winner\"]).size()\n",
        "print(x)\n",
        "print('')\n",
        "print(y)\n"
      ],
      "execution_count": null,
      "outputs": [
        {
          "output_type": "stream",
          "text": [
            "toss_winner\n",
            "1     98\n",
            "2     92\n",
            "3     81\n",
            "4     43\n",
            "5     89\n",
            "6     80\n",
            "7     90\n",
            "8     15\n",
            "9     81\n",
            "10    46\n",
            "11    13\n",
            "12     8\n",
            "13    20\n",
            "dtype: int64\n",
            "\n",
            "winner\n",
            "1     109\n",
            "2      92\n",
            "3      84\n",
            "4      29\n",
            "5     100\n",
            "6      75\n",
            "7      77\n",
            "8      13\n",
            "9      82\n",
            "10     58\n",
            "11     15\n",
            "12      6\n",
            "13     12\n",
            "14      4\n",
            "dtype: int64\n"
          ],
          "name": "stdout"
        }
      ]
    },
    {
      "cell_type": "code",
      "metadata": {
        "id": "BLB2s2GlYuyl",
        "outputId": "b132bb4a-4d88-48fc-e958-be7a8d73a8d1",
        "colab": {
          "base_uri": "https://localhost:8080/",
          "height": 52
        }
      },
      "source": [
        "dicVal = encode['winner']\n",
        "print(dicVal['RCB']) #key value of team is printing\n",
        "print(list(dicVal.keys())[list(dicVal.values()).index(3)]) # Team is displayed based on index value"
      ],
      "execution_count": null,
      "outputs": [
        {
          "output_type": "stream",
          "text": [
            "3\n",
            "RCB\n"
          ],
          "name": "stdout"
        }
      ]
    },
    {
      "cell_type": "code",
      "metadata": {
        "id": "F0BnXo9JYz-q",
        "outputId": "8ee59ff0-c245-4e82-d682-442a466b8d68",
        "colab": {
          "base_uri": "https://localhost:8080/",
          "height": 197
        }
      },
      "source": [
        "matches = matches[['team1','team2','city','toss_decision','toss_winner','venue','winner']]\n",
        "matches.head(5)"
      ],
      "execution_count": null,
      "outputs": [
        {
          "output_type": "execute_result",
          "data": {
            "text/html": [
              "<div>\n",
              "<style scoped>\n",
              "    .dataframe tbody tr th:only-of-type {\n",
              "        vertical-align: middle;\n",
              "    }\n",
              "\n",
              "    .dataframe tbody tr th {\n",
              "        vertical-align: top;\n",
              "    }\n",
              "\n",
              "    .dataframe thead th {\n",
              "        text-align: right;\n",
              "    }\n",
              "</style>\n",
              "<table border=\"1\" class=\"dataframe\">\n",
              "  <thead>\n",
              "    <tr style=\"text-align: right;\">\n",
              "      <th></th>\n",
              "      <th>team1</th>\n",
              "      <th>team2</th>\n",
              "      <th>city</th>\n",
              "      <th>toss_decision</th>\n",
              "      <th>toss_winner</th>\n",
              "      <th>venue</th>\n",
              "      <th>winner</th>\n",
              "    </tr>\n",
              "  </thead>\n",
              "  <tbody>\n",
              "    <tr>\n",
              "      <th>0</th>\n",
              "      <td>10</td>\n",
              "      <td>3</td>\n",
              "      <td>Hyderabad</td>\n",
              "      <td>field</td>\n",
              "      <td>3</td>\n",
              "      <td>Rajiv Gandhi International Stadium, Uppal</td>\n",
              "      <td>10</td>\n",
              "    </tr>\n",
              "    <tr>\n",
              "      <th>1</th>\n",
              "      <td>1</td>\n",
              "      <td>11</td>\n",
              "      <td>Pune</td>\n",
              "      <td>field</td>\n",
              "      <td>11</td>\n",
              "      <td>Maharashtra Cricket Association Stadium</td>\n",
              "      <td>11</td>\n",
              "    </tr>\n",
              "    <tr>\n",
              "      <th>2</th>\n",
              "      <td>8</td>\n",
              "      <td>2</td>\n",
              "      <td>Rajkot</td>\n",
              "      <td>field</td>\n",
              "      <td>2</td>\n",
              "      <td>Saurashtra Cricket Association Stadium</td>\n",
              "      <td>2</td>\n",
              "    </tr>\n",
              "    <tr>\n",
              "      <th>3</th>\n",
              "      <td>11</td>\n",
              "      <td>9</td>\n",
              "      <td>Indore</td>\n",
              "      <td>field</td>\n",
              "      <td>9</td>\n",
              "      <td>Holkar Cricket Stadium</td>\n",
              "      <td>9</td>\n",
              "    </tr>\n",
              "    <tr>\n",
              "      <th>4</th>\n",
              "      <td>3</td>\n",
              "      <td>7</td>\n",
              "      <td>Bangalore</td>\n",
              "      <td>bat</td>\n",
              "      <td>3</td>\n",
              "      <td>M Chinnaswamy Stadium</td>\n",
              "      <td>3</td>\n",
              "    </tr>\n",
              "  </tbody>\n",
              "</table>\n",
              "</div>"
            ],
            "text/plain": [
              "   team1  team2  ...                                      venue winner\n",
              "0     10      3  ...  Rajiv Gandhi International Stadium, Uppal     10\n",
              "1      1     11  ...    Maharashtra Cricket Association Stadium     11\n",
              "2      8      2  ...     Saurashtra Cricket Association Stadium      2\n",
              "3     11      9  ...                     Holkar Cricket Stadium      9\n",
              "4      3      7  ...                      M Chinnaswamy Stadium      3\n",
              "\n",
              "[5 rows x 7 columns]"
            ]
          },
          "metadata": {
            "tags": []
          },
          "execution_count": 50
        }
      ]
    },
    {
      "cell_type": "code",
      "metadata": {
        "id": "yDfJ72V0Y5zY",
        "outputId": "6c0310e4-0655-47a4-85e6-e7cb2f777cad",
        "colab": {
          "base_uri": "https://localhost:8080/",
          "height": 287
        }
      },
      "source": [
        "df = pd.DataFrame(matches)\n",
        "df.describe()"
      ],
      "execution_count": null,
      "outputs": [
        {
          "output_type": "execute_result",
          "data": {
            "text/html": [
              "<div>\n",
              "<style scoped>\n",
              "    .dataframe tbody tr th:only-of-type {\n",
              "        vertical-align: middle;\n",
              "    }\n",
              "\n",
              "    .dataframe tbody tr th {\n",
              "        vertical-align: top;\n",
              "    }\n",
              "\n",
              "    .dataframe thead th {\n",
              "        text-align: right;\n",
              "    }\n",
              "</style>\n",
              "<table border=\"1\" class=\"dataframe\">\n",
              "  <thead>\n",
              "    <tr style=\"text-align: right;\">\n",
              "      <th></th>\n",
              "      <th>team1</th>\n",
              "      <th>team2</th>\n",
              "      <th>toss_winner</th>\n",
              "      <th>winner</th>\n",
              "    </tr>\n",
              "  </thead>\n",
              "  <tbody>\n",
              "    <tr>\n",
              "      <th>count</th>\n",
              "      <td>756.000000</td>\n",
              "      <td>756.000000</td>\n",
              "      <td>756.000000</td>\n",
              "      <td>756.000000</td>\n",
              "    </tr>\n",
              "    <tr>\n",
              "      <th>mean</th>\n",
              "      <td>5.498677</td>\n",
              "      <td>5.511905</td>\n",
              "      <td>5.370370</td>\n",
              "      <td>5.318783</td>\n",
              "    </tr>\n",
              "    <tr>\n",
              "      <th>std</th>\n",
              "      <td>3.307026</td>\n",
              "      <td>3.274807</td>\n",
              "      <td>3.218386</td>\n",
              "      <td>3.264940</td>\n",
              "    </tr>\n",
              "    <tr>\n",
              "      <th>min</th>\n",
              "      <td>1.000000</td>\n",
              "      <td>1.000000</td>\n",
              "      <td>1.000000</td>\n",
              "      <td>1.000000</td>\n",
              "    </tr>\n",
              "    <tr>\n",
              "      <th>25%</th>\n",
              "      <td>3.000000</td>\n",
              "      <td>3.000000</td>\n",
              "      <td>2.000000</td>\n",
              "      <td>2.000000</td>\n",
              "    </tr>\n",
              "    <tr>\n",
              "      <th>50%</th>\n",
              "      <td>5.000000</td>\n",
              "      <td>5.000000</td>\n",
              "      <td>5.000000</td>\n",
              "      <td>5.000000</td>\n",
              "    </tr>\n",
              "    <tr>\n",
              "      <th>75%</th>\n",
              "      <td>9.000000</td>\n",
              "      <td>8.000000</td>\n",
              "      <td>7.000000</td>\n",
              "      <td>8.000000</td>\n",
              "    </tr>\n",
              "    <tr>\n",
              "      <th>max</th>\n",
              "      <td>13.000000</td>\n",
              "      <td>13.000000</td>\n",
              "      <td>13.000000</td>\n",
              "      <td>14.000000</td>\n",
              "    </tr>\n",
              "  </tbody>\n",
              "</table>\n",
              "</div>"
            ],
            "text/plain": [
              "            team1       team2  toss_winner      winner\n",
              "count  756.000000  756.000000   756.000000  756.000000\n",
              "mean     5.498677    5.511905     5.370370    5.318783\n",
              "std      3.307026    3.274807     3.218386    3.264940\n",
              "min      1.000000    1.000000     1.000000    1.000000\n",
              "25%      3.000000    3.000000     2.000000    2.000000\n",
              "50%      5.000000    5.000000     5.000000    5.000000\n",
              "75%      9.000000    8.000000     7.000000    8.000000\n",
              "max     13.000000   13.000000    13.000000   14.000000"
            ]
          },
          "metadata": {
            "tags": []
          },
          "execution_count": 51
        }
      ]
    },
    {
      "cell_type": "markdown",
      "metadata": {
        "id": "ATvGYWI21HiI"
      },
      "source": [
        "***Finding cities and venues for indexing with encoded data***"
      ]
    },
    {
      "cell_type": "code",
      "metadata": {
        "id": "aKTZtdgsZIOh",
        "outputId": "983fc4fc-f302-471b-9f9d-6e8fb940bb77",
        "colab": {
          "base_uri": "https://localhost:8080/",
          "height": 141
        }
      },
      "source": [
        "#33 cities\n",
        "df['city'].unique()"
      ],
      "execution_count": null,
      "outputs": [
        {
          "output_type": "execute_result",
          "data": {
            "text/plain": [
              "array(['Hyderabad', 'Pune', 'Rajkot', 'Indore', 'Bangalore', 'Mumbai',\n",
              "       'Kolkata', 'Delhi', 'Chandigarh', 'Kanpur', 'Jaipur', 'Chennai',\n",
              "       'Cape Town', 'Port Elizabeth', 'Durban', 'Centurion',\n",
              "       'East London', 'Johannesburg', 'Kimberley', 'Bloemfontein',\n",
              "       'Ahmedabad', 'Cuttack', 'Nagpur', 'Dharamsala', 'Kochi',\n",
              "       'Visakhapatnam', 'Raipur', 'Ranchi', 'Abu Dhabi', 'Sharjah',\n",
              "       'Dubai', 'Mohali', 'Bengaluru'], dtype=object)"
            ]
          },
          "metadata": {
            "tags": []
          },
          "execution_count": 52
        }
      ]
    },
    {
      "cell_type": "code",
      "metadata": {
        "id": "kVZoq_1naObL",
        "outputId": "98002a7a-9257-43f9-a788-1b9c22096a04",
        "colab": {
          "base_uri": "https://localhost:8080/",
          "height": 425
        }
      },
      "source": [
        "#41 Venues\n",
        "df[\"venue\"].unique() "
      ],
      "execution_count": null,
      "outputs": [
        {
          "output_type": "execute_result",
          "data": {
            "text/plain": [
              "array(['Rajiv Gandhi International Stadium, Uppal',\n",
              "       'Maharashtra Cricket Association Stadium',\n",
              "       'Saurashtra Cricket Association Stadium', 'Holkar Cricket Stadium',\n",
              "       'M Chinnaswamy Stadium', 'Wankhede Stadium', 'Eden Gardens',\n",
              "       'Feroz Shah Kotla',\n",
              "       'Punjab Cricket Association IS Bindra Stadium, Mohali',\n",
              "       'Green Park', 'Punjab Cricket Association Stadium, Mohali',\n",
              "       'Sawai Mansingh Stadium', 'MA Chidambaram Stadium, Chepauk',\n",
              "       'Dr DY Patil Sports Academy', 'Newlands', \"St George's Park\",\n",
              "       'Kingsmead', 'SuperSport Park', 'Buffalo Park',\n",
              "       'New Wanderers Stadium', 'De Beers Diamond Oval',\n",
              "       'OUTsurance Oval', 'Brabourne Stadium',\n",
              "       'Sardar Patel Stadium, Motera', 'Barabati Stadium',\n",
              "       'Vidarbha Cricket Association Stadium, Jamtha',\n",
              "       'Himachal Pradesh Cricket Association Stadium', 'Nehru Stadium',\n",
              "       'Dr. Y.S. Rajasekhara Reddy ACA-VDCA Cricket Stadium',\n",
              "       'Subrata Roy Sahara Stadium',\n",
              "       'Shaheed Veer Narayan Singh International Stadium',\n",
              "       'JSCA International Stadium Complex', 'Sheikh Zayed Stadium',\n",
              "       'Sharjah Cricket Stadium', 'Dubai International Cricket Stadium',\n",
              "       'M. A. Chidambaram Stadium', 'Feroz Shah Kotla Ground',\n",
              "       'M. Chinnaswamy Stadium', 'Rajiv Gandhi Intl. Cricket Stadium',\n",
              "       'IS Bindra Stadium', 'ACA-VDCA Stadium'], dtype=object)"
            ]
          },
          "metadata": {
            "tags": []
          },
          "execution_count": 53
        }
      ]
    },
    {
      "cell_type": "code",
      "metadata": {
        "id": "lRqPe7Lcaqgl",
        "outputId": "94586b52-7c98-4845-fb2e-75bdc0b565b0",
        "colab": {
          "base_uri": "https://localhost:8080/",
          "height": 763
        }
      },
      "source": [
        "city_list=df[\"city\"]\n",
        "encoded_data, mapping_index = pd.Series(city_list).factorize()\n",
        "print(encoded_data,'\\n')\n",
        "print(mapping_index,'\\n')\n",
        "print(mapping_index.get_loc(\"Bangalore\"))"
      ],
      "execution_count": null,
      "outputs": [
        {
          "output_type": "stream",
          "text": [
            "[ 0  1  2  3  4  0  5  3  1  5  6  4  2  6  7  5  4  7  0  2  0  3  6  5\n",
            "  1  2  6  5  1  4  6  8  1  2  8  0  5  1  7  6  7  4  0  7  4  8  0  8\n",
            "  9  5  7  9  6  1  7  5  4  4  0  4  8  7  5  6 10  0 11  0  8  4 11  5\n",
            "  8  4  6  7  0 10 11  0  8  5 10  4 11  5  7  6 10  4 11  0 10  8  6  5\n",
            "  8  7  5  7 10  0  6  4  6  5 11  8  7 11  4  6 10  0  5  5  5 12 12 12\n",
            " 12 13 14 12 14 12 14 14 13 12 14 13 15 14 14 15 15 16 14 13 17 13 17 16\n",
            " 14 14 15 15 15 16 18 18 13 17 18 15 15 14 14 14 19 13 17 17 19 15 17 14\n",
            " 14 15 15 15 17 17  5  5  8  6 11 20  4  6  7  4  7 21 20  5 21 11  5  4\n",
            "  8  5 20  8  4 20  5  7  5 11  7  6  8 11  5  6  7 22 11 10  6  4  8 22\n",
            "  4  7 10 22  5 11 10 11 23  4  6 23  7  6  5  5  5  5 11  0 24  7  5  6\n",
            " 10  4  8  5  0 10  5 11  0  5  6 24  7  5  6  8  5  6  7  0 10 11  7  5\n",
            " 24  7 10  4 24  6 10 11  5  7  0 11  5 24  0  4  6  5  4  8 10  0  8 10\n",
            " 11  3  4  5 23  3  5 23 11  5  5 23  7  4  6  5  5 11 11 11  6  5 10  4\n",
            " 25 10  1 25  4  7  5 11  8  6  7  1  6  4  5 10  4  8  0 11  8 11  7  5\n",
            " 21 10  1  8  1  7 11  6  7  5 11 21 10  4  1 11  6  8  5  4  7  1  0  5\n",
            " 10  1  6 11 10  8  4  6  7  5 23  7  0 23  1  0 10  1  4 11 11  6  4  0\n",
            "  7 11  1  0 10  5  8  4  1  7  5 11  6 10 11  8  4  1 10  7  0  6  4  7\n",
            "  8 11  4 23  6 11  6 10  5 11 26 10  5  1  0 26 11  1  6  0  4  5 10  4\n",
            " 10  5  0  8  1  7  1  8 27 10  7  5 27 11  5  8  0 23  1  4  0  7  7  6\n",
            "  6 28 29 28 28 30 30 29 28 29 30 29 30 30 28 28 29 29 30 28 30 27  5  7\n",
            "  4 20  7  5  7 21 20  4  7  5 21  4  0 27  4  0 21 20 27  0 20  7  0  6\n",
            "  8  6 27  5  8  4  6  8  5  6  5  5  4  6 11  1 11  6  7  5  4 20  6  1\n",
            " 25  5 25  1 20  4  7 20 25  4  7 20  5 11  7  8  6  4 11  7  5  4  0  8\n",
            "  5 11  6  5  4  5 11  6 26  5 11  0 26  8  5  0  8  5  4  0  5  1 27  6\n",
            "  5  6  8  4  6  2  7  0  5  8  4  0  8  5  2  1  7  0  2  1  8  0  7  5\n",
            "  1  7  0  2  1  4  2  6  7  0  4  8 25  6  8 25  4  0 25  4  6  8 25  6\n",
            " 25  4  9 26 25  9  6 26  4  7  7  4  5 31  6  0 11 10  0 32  5  6 32 31\n",
            "  6  5 10 31  1  6 32  0 10  7  5 32  0  7  1 10 32  1 32  7  6  3  1  0\n",
            "  5  3  0 10  6  7 10  3  7  1  5  3  6  5 32  7 10  0  7  1  5  6  6  5\n",
            " 11  6  5 10  7  6 32  0 31  7  0 11 31 10  5  7 32 11  0 32 10 31 11  5\n",
            " 10  6  5 31  6  0  5 31  0  7  6 10  7  0 32 10 11 32  6 11 10  7  6  0\n",
            " 32 11  5 31  7 32 31  5 11 25 25  0] \n",
            "\n",
            "Index(['Hyderabad', 'Pune', 'Rajkot', 'Indore', 'Bangalore', 'Mumbai',\n",
            "       'Kolkata', 'Delhi', 'Chandigarh', 'Kanpur', 'Jaipur', 'Chennai',\n",
            "       'Cape Town', 'Port Elizabeth', 'Durban', 'Centurion', 'East London',\n",
            "       'Johannesburg', 'Kimberley', 'Bloemfontein', 'Ahmedabad', 'Cuttack',\n",
            "       'Nagpur', 'Dharamsala', 'Kochi', 'Visakhapatnam', 'Raipur', 'Ranchi',\n",
            "       'Abu Dhabi', 'Sharjah', 'Dubai', 'Mohali', 'Bengaluru'],\n",
            "      dtype='object') \n",
            "\n",
            "4\n"
          ],
          "name": "stdout"
        }
      ]
    },
    {
      "cell_type": "code",
      "metadata": {
        "id": "UQvMEm9Bbi_k",
        "outputId": "fa08be69-4be6-4821-956a-b6b045f3d21d",
        "colab": {
          "base_uri": "https://localhost:8080/",
          "height": 1000
        }
      },
      "source": [
        "venue_list=df[\"venue\"]\n",
        "encoded_data1, mapping_index1 = pd.Series(venue_list).factorize()\n",
        "print(encoded_data1,'\\n')\n",
        "print(mapping_index1,'\\n')\n",
        "print(mapping_index1.get_loc(\"M Chinnaswamy Stadium\"))"
      ],
      "execution_count": null,
      "outputs": [
        {
          "output_type": "stream",
          "text": [
            "[ 0  1  2  3  4  0  5  3  1  5  6  4  2  6  7  5  4  7  0  2  0  3  6  5\n",
            "  1  2  6  5  1  4  6  8  1  2  8  0  5  1  7  6  7  4  0  7  4  8  0  8\n",
            "  9  5  7  9  6  1  7  5  4  4  0  4 10  7  5  6 11  0 12  0 10  4 12 13\n",
            " 10  4  6  7  0 11 12  0 10 13 11  4 12 13  7  6 11  4 12  0 11 10  6  5\n",
            " 10  7  5  7 11  0  6  4  6  5 12 10  7 12  4  6 11  0  5  5 13 14 14 14\n",
            " 14 15 16 14 16 14 16 16 15 14 16 15 17 16 16 17 17 18 16 15 19 15 19 18\n",
            " 16 16 17 17 17 18 20 20 15 19 20 17 17 16 16 16 21 15 19 19 21 17 19 16\n",
            " 16 17 17 17 19 19 13 22 10  6 12 23  4  6  7  4  7 24 23 22 24 12 22  4\n",
            " 10 22 23 10  4 23 13  7 22 12  7  6 10 12 22  6  7 25 12 11  6  4 10 25\n",
            "  4  7 11 25 22 12 11 12 26  4  6 26  7  6 13 13 13 13 12  0 27  7 13  6\n",
            " 11  4 10 13  0 11  5 12  0 13  6 27  7  5  6 10  5  6  7  0 11 12  7 13\n",
            " 27  7 11  4 27  6 11 12  5  7  0 12 13 27  0  4  6  5  4 10 11  0 10 11\n",
            " 12  3  4  5 26  3 13 26 12 13  5 26  7  4  6  5  5 12 12 12  6  5 11  4\n",
            " 28 11 29 28  4  7  5 12 10  6  7 29  6  4  5 11  4 10  0 12 10 12  7  5\n",
            " 24 11 29 10 29  7 12  6  7  5 12 24 11  4 29 12  6 10  5  4  7 29  0  5\n",
            " 11 29  6 12 11 10  4  6  7  5 26  7  0 26 29  0 11 29  4 12 12  6  4  0\n",
            "  7 12 29  0 11  5 10  4 29  7  5 12  6 11 12 10  4 29 11  7  0  6  4  7\n",
            " 10 12  4 26  6 12  6 11  5 12 30 11  5 29  0 30 12 29  6  0  4  5 11  4\n",
            " 11  5  0 10 29  7 29 10 31 11  7  5 31 12  5 10  0 26 29  4  0  7  7  6\n",
            "  6 32 33 32 32 34 34 33 32 33 34 33 34 34 32 32 33 33 34 32 34 31  5  7\n",
            "  4 23  7  5  7 24 23  4  7  5 24  4  0 31  4  0 24 23 31  0 23  7  0  6\n",
            " 10  6 31  5 10  4  6 10  5  6 22  5  4  6 12  1 12  6  7  5  4 23  6  1\n",
            " 28  5 28  1 23  4  7 23 28  4  7 23  5 12  7 10  6  4 12  7  5  4  0 10\n",
            " 22 12  6  5  4 22 12  6 30  5 12  0 30 10  5  0 10 22  4  0  5  1 31  6\n",
            "  5  6  8  4  6  2  7  0  5  8  4  0  8  5  2  1  7  0  2  1  8  0  7  5\n",
            "  1  7  0  2  1  4  2  6  7  0  4  8 28  6  8 28  4  0 28  4  6  8 28  6\n",
            " 28  4  9 30 28  9  6 30  4  7  7  4  5  8  6  0 12 11  0  4  5  6  4  8\n",
            "  6  5 11  8  1  6  4  0 11  7  5  4  0  7  1 11  4  1  4  7  6  3  1  0\n",
            "  5  3  0 11  6  7 11  3  7  1  5  3  6  5  4  7 11  0  7  1  5  6  6  5\n",
            " 35  6  5 11 36  6 37 38 39 36 38 35 39 11  5 36 37 35 38 37 11 39 35  5\n",
            " 11  6  5 39  6 38  5 39 38 36  6 11 36 38 37 11 35 37  6 35 11 36  6 38\n",
            " 37 35  5 39 36 37 39  5 35 40 40 38] \n",
            "\n",
            "Index(['Rajiv Gandhi International Stadium, Uppal',\n",
            "       'Maharashtra Cricket Association Stadium',\n",
            "       'Saurashtra Cricket Association Stadium', 'Holkar Cricket Stadium',\n",
            "       'M Chinnaswamy Stadium', 'Wankhede Stadium', 'Eden Gardens',\n",
            "       'Feroz Shah Kotla',\n",
            "       'Punjab Cricket Association IS Bindra Stadium, Mohali', 'Green Park',\n",
            "       'Punjab Cricket Association Stadium, Mohali', 'Sawai Mansingh Stadium',\n",
            "       'MA Chidambaram Stadium, Chepauk', 'Dr DY Patil Sports Academy',\n",
            "       'Newlands', 'St George's Park', 'Kingsmead', 'SuperSport Park',\n",
            "       'Buffalo Park', 'New Wanderers Stadium', 'De Beers Diamond Oval',\n",
            "       'OUTsurance Oval', 'Brabourne Stadium', 'Sardar Patel Stadium, Motera',\n",
            "       'Barabati Stadium', 'Vidarbha Cricket Association Stadium, Jamtha',\n",
            "       'Himachal Pradesh Cricket Association Stadium', 'Nehru Stadium',\n",
            "       'Dr. Y.S. Rajasekhara Reddy ACA-VDCA Cricket Stadium',\n",
            "       'Subrata Roy Sahara Stadium',\n",
            "       'Shaheed Veer Narayan Singh International Stadium',\n",
            "       'JSCA International Stadium Complex', 'Sheikh Zayed Stadium',\n",
            "       'Sharjah Cricket Stadium', 'Dubai International Cricket Stadium',\n",
            "       'M. A. Chidambaram Stadium', 'Feroz Shah Kotla Ground',\n",
            "       'M. Chinnaswamy Stadium', 'Rajiv Gandhi Intl. Cricket Stadium',\n",
            "       'IS Bindra Stadium', 'ACA-VDCA Stadium'],\n",
            "      dtype='object') \n",
            "\n",
            "4\n"
          ],
          "name": "stdout"
        }
      ]
    },
    {
      "cell_type": "markdown",
      "metadata": {
        "id": "5KD0dScJincJ"
      },
      "source": [
        "***Comparing Toss winners and match winners***"
      ]
    },
    {
      "cell_type": "code",
      "metadata": {
        "id": "paRLI8Y4iLCG",
        "outputId": "6d7334f9-4e19-4853-fac0-2e12afed3450",
        "colab": {
          "base_uri": "https://localhost:8080/",
          "height": 70
        }
      },
      "source": [
        "toss_list=df[\"toss_decision\"]\n",
        "encoded_data2, mapping_index2 = pd.Series(toss_list).factorize()\n",
        "#print(encoded_data2)\n",
        "print(mapping_index2)\n",
        "print(mapping_index2.get_loc(\"field\"))\n",
        "print(mapping_index2.get_loc(\"bat\"))"
      ],
      "execution_count": null,
      "outputs": [
        {
          "output_type": "stream",
          "text": [
            "Index(['field', 'bat'], dtype='object')\n",
            "0\n",
            "1\n"
          ],
          "name": "stdout"
        }
      ]
    },
    {
      "cell_type": "code",
      "metadata": {
        "id": "tvXGptLJi9Mc",
        "outputId": "38eea418-ed35-47f2-d084-c89c04d2aa5d",
        "colab": {
          "base_uri": "https://localhost:8080/",
          "height": 550
        }
      },
      "source": [
        "temp1=df['toss_winner'].value_counts(sort=True)\n",
        "temp2=df['winner'].value_counts(sort=True)\n",
        "print('No of toss winners by each team')\n",
        "for idx, val in temp1.iteritems():\n",
        "   print('{} -> {}'.format(list(dicVal.keys())[list(dicVal.values()).index(idx)],val))\n",
        "print('\\n No of match winners by each team')\n",
        "for idx, val in temp2.iteritems():\n",
        "   print('{} -> {}'.format(list(dicVal.keys())[list(dicVal.values()).index(idx)],val))"
      ],
      "execution_count": null,
      "outputs": [
        {
          "output_type": "stream",
          "text": [
            "No of toss winners by each team\n",
            "MI -> 98\n",
            "KKR -> 92\n",
            "DD -> 90\n",
            "CSK -> 89\n",
            "KXIP -> 81\n",
            "RCB -> 81\n",
            "RR -> 80\n",
            "SRH -> 46\n",
            "DC -> 43\n",
            "PW -> 20\n",
            "GL -> 15\n",
            "RPS -> 13\n",
            "KTK -> 8\n",
            "\n",
            " No of match winners by each team\n",
            "MI -> 109\n",
            "CSK -> 100\n",
            "KKR -> 92\n",
            "RCB -> 84\n",
            "KXIP -> 82\n",
            "DD -> 77\n",
            "RR -> 75\n",
            "SRH -> 58\n",
            "DC -> 29\n",
            "RPS -> 15\n",
            "GL -> 13\n",
            "PW -> 12\n",
            "KTK -> 6\n",
            "Draw -> 4\n"
          ],
          "name": "stdout"
        }
      ]
    },
    {
      "cell_type": "code",
      "metadata": {
        "id": "C74lIGa_kHfT",
        "outputId": "4a0a3a57-b8d0-4aa1-f87e-e7721521eabf",
        "colab": {
          "base_uri": "https://localhost:8080/",
          "height": 316
        }
      },
      "source": [
        "fig = plt.figure(figsize=(10,4))\n",
        "toss_winners = fig.add_subplot(121)\n",
        "toss_winners.set_xlabel('toss_winner',fontsize=10)\n",
        "toss_winners.set_ylabel('Count of toss winners',fontsize=10)\n",
        "toss_winners.set_title(\"toss winners\")\n",
        "temp1.plot(kind='bar')\n",
        "\n",
        "match_winners = fig.add_subplot(122)\n",
        "temp2.plot(kind = 'bar')\n",
        "match_winners.set_xlabel('winner',fontsize=10)\n",
        "match_winners.set_ylabel('Count of match winners',fontsize=10)\n",
        "match_winners.set_title(\"Match winners\")"
      ],
      "execution_count": null,
      "outputs": [
        {
          "output_type": "execute_result",
          "data": {
            "text/plain": [
              "Text(0.5, 1.0, 'Match winners')"
            ]
          },
          "metadata": {
            "tags": []
          },
          "execution_count": 58
        },
        {
          "output_type": "display_data",
          "data": {
            "image/png": "[encoded data removed]",
            "text/plain": [
              "<Figure size 720x288 with 2 Axes>"
            ]
          },
          "metadata": {
            "tags": [],
            "needs_background": "light"
          }
        }
      ]
    },
    {
      "cell_type": "markdown",
      "metadata": {
        "id": "hfxzTDPEZ0Cn"
      },
      "source": [
        "# **Prediction**"
      ]
    },
    {
      "cell_type": "markdown",
      "metadata": {
        "id": "iGNJpVo4ly6b"
      },
      "source": [
        "***Checking each column for null value***"
      ]
    },
    {
      "cell_type": "code",
      "metadata": {
        "id": "c0HkksFzk75-",
        "outputId": "68380381-2a2e-4c68-bb88-28f3228475ee",
        "colab": {
          "base_uri": "https://localhost:8080/",
          "height": 158
        }
      },
      "source": [
        "df.apply(lambda x: sum(x.isnull()),axis=0) \n",
        "# Zero null values now we can move to prediction"
      ],
      "execution_count": null,
      "outputs": [
        {
          "output_type": "execute_result",
          "data": {
            "text/plain": [
              "team1            0\n",
              "team2            0\n",
              "city             0\n",
              "toss_decision    0\n",
              "toss_winner      0\n",
              "venue            0\n",
              "winner           0\n",
              "dtype: int64"
            ]
          },
          "metadata": {
            "tags": []
          },
          "execution_count": 59
        }
      ]
    },
    {
      "cell_type": "markdown",
      "metadata": {
        "id": "NS-i3n5jl9qJ"
      },
      "source": [
        "***Building Predictive Model and converting Categorial Data to Numeric***"
      ]
    },
    {
      "cell_type": "code",
      "metadata": {
        "id": "jhC8nFBJl92W",
        "outputId": "b5fed257-ad86-4695-829a-91bb4207178f",
        "colab": {
          "base_uri": "https://localhost:8080/",
          "height": 406
        }
      },
      "source": [
        "from sklearn.preprocessing import LabelEncoder\n",
        "var_mod = ['city','toss_decision','venue']\n",
        "le = LabelEncoder()\n",
        "for i in var_mod:\n",
        "    df[i] = le.fit_transform(df[i])\n",
        "df\n",
        "# All catagorial data is converted into numeric data"
      ],
      "execution_count": null,
      "outputs": [
        {
          "output_type": "execute_result",
          "data": {
            "text/html": [
              "<div>\n",
              "<style scoped>\n",
              "    .dataframe tbody tr th:only-of-type {\n",
              "        vertical-align: middle;\n",
              "    }\n",
              "\n",
              "    .dataframe tbody tr th {\n",
              "        vertical-align: top;\n",
              "    }\n",
              "\n",
              "    .dataframe thead th {\n",
              "        text-align: right;\n",
              "    }\n",
              "</style>\n",
              "<table border=\"1\" class=\"dataframe\">\n",
              "  <thead>\n",
              "    <tr style=\"text-align: right;\">\n",
              "      <th></th>\n",
              "      <th>team1</th>\n",
              "      <th>team2</th>\n",
              "      <th>city</th>\n",
              "      <th>toss_decision</th>\n",
              "      <th>toss_winner</th>\n",
              "      <th>venue</th>\n",
              "      <th>winner</th>\n",
              "    </tr>\n",
              "  </thead>\n",
              "  <tbody>\n",
              "    <tr>\n",
              "      <th>0</th>\n",
              "      <td>10</td>\n",
              "      <td>3</td>\n",
              "      <td>15</td>\n",
              "      <td>1</td>\n",
              "      <td>3</td>\n",
              "      <td>28</td>\n",
              "      <td>10</td>\n",
              "    </tr>\n",
              "    <tr>\n",
              "      <th>1</th>\n",
              "      <td>1</td>\n",
              "      <td>11</td>\n",
              "      <td>27</td>\n",
              "      <td>1</td>\n",
              "      <td>11</td>\n",
              "      <td>21</td>\n",
              "      <td>11</td>\n",
              "    </tr>\n",
              "    <tr>\n",
              "      <th>2</th>\n",
              "      <td>8</td>\n",
              "      <td>2</td>\n",
              "      <td>29</td>\n",
              "      <td>1</td>\n",
              "      <td>2</td>\n",
              "      <td>31</td>\n",
              "      <td>2</td>\n",
              "    </tr>\n",
              "    <tr>\n",
              "      <th>3</th>\n",
              "      <td>11</td>\n",
              "      <td>9</td>\n",
              "      <td>16</td>\n",
              "      <td>1</td>\n",
              "      <td>9</td>\n",
              "      <td>13</td>\n",
              "      <td>9</td>\n",
              "    </tr>\n",
              "    <tr>\n",
              "      <th>4</th>\n",
              "      <td>3</td>\n",
              "      <td>7</td>\n",
              "      <td>2</td>\n",
              "      <td>0</td>\n",
              "      <td>3</td>\n",
              "      <td>17</td>\n",
              "      <td>3</td>\n",
              "    </tr>\n",
              "    <tr>\n",
              "      <th>...</th>\n",
              "      <td>...</td>\n",
              "      <td>...</td>\n",
              "      <td>...</td>\n",
              "      <td>...</td>\n",
              "      <td>...</td>\n",
              "      <td>...</td>\n",
              "      <td>...</td>\n",
              "    </tr>\n",
              "    <tr>\n",
              "      <th>751</th>\n",
              "      <td>2</td>\n",
              "      <td>1</td>\n",
              "      <td>24</td>\n",
              "      <td>1</td>\n",
              "      <td>1</td>\n",
              "      <td>40</td>\n",
              "      <td>1</td>\n",
              "    </tr>\n",
              "    <tr>\n",
              "      <th>752</th>\n",
              "      <td>5</td>\n",
              "      <td>1</td>\n",
              "      <td>8</td>\n",
              "      <td>0</td>\n",
              "      <td>5</td>\n",
              "      <td>18</td>\n",
              "      <td>1</td>\n",
              "    </tr>\n",
              "    <tr>\n",
              "      <th>753</th>\n",
              "      <td>10</td>\n",
              "      <td>7</td>\n",
              "      <td>32</td>\n",
              "      <td>1</td>\n",
              "      <td>7</td>\n",
              "      <td>0</td>\n",
              "      <td>7</td>\n",
              "    </tr>\n",
              "    <tr>\n",
              "      <th>754</th>\n",
              "      <td>7</td>\n",
              "      <td>5</td>\n",
              "      <td>32</td>\n",
              "      <td>1</td>\n",
              "      <td>5</td>\n",
              "      <td>0</td>\n",
              "      <td>5</td>\n",
              "    </tr>\n",
              "    <tr>\n",
              "      <th>755</th>\n",
              "      <td>1</td>\n",
              "      <td>5</td>\n",
              "      <td>15</td>\n",
              "      <td>0</td>\n",
              "      <td>1</td>\n",
              "      <td>29</td>\n",
              "      <td>1</td>\n",
              "    </tr>\n",
              "  </tbody>\n",
              "</table>\n",
              "<p>756 rows × 7 columns</p>\n",
              "</div>"
            ],
            "text/plain": [
              "     team1  team2  city  toss_decision  toss_winner  venue  winner\n",
              "0       10      3    15              1            3     28      10\n",
              "1        1     11    27              1           11     21      11\n",
              "2        8      2    29              1            2     31       2\n",
              "3       11      9    16              1            9     13       9\n",
              "4        3      7     2              0            3     17       3\n",
              "..     ...    ...   ...            ...          ...    ...     ...\n",
              "751      2      1    24              1            1     40       1\n",
              "752      5      1     8              0            5     18       1\n",
              "753     10      7    32              1            7      0       7\n",
              "754      7      5    32              1            5      0       5\n",
              "755      1      5    15              0            1     29       1\n",
              "\n",
              "[756 rows x 7 columns]"
            ]
          },
          "metadata": {
            "tags": []
          },
          "execution_count": 60
        }
      ]
    },
    {
      "cell_type": "markdown",
      "metadata": {
        "id": "A2onZyrINPv-"
      },
      "source": [
        "***Importing Models from Scikit Learn***\n",
        "\n",
        "> Models used \n",
        "\n",
        "\n",
        "1.   Logistic Regression\n",
        "2.   Naive bayes classifier\n",
        "3.   KNN algorithm\n",
        "4.   Support Vector machine\n",
        "5.   Decision tree algorithm\n",
        "6.   Random forest classifier\n",
        "\n",
        "\n",
        "\n"
      ]
    },
    {
      "cell_type": "code",
      "metadata": {
        "id": "X4N0_2IoiiTx"
      },
      "source": [
        "from sklearn.model_selection import KFold   #For K-fold cross validation\n",
        "from sklearn import metrics\n",
        "\n",
        "from sklearn.linear_model import LogisticRegression  #For Logistic Regression\n",
        "from sklearn.naive_bayes import GaussianNB           #For Navie Bayes classifier\n",
        "from sklearn.neighbors import KNeighborsClassifier   #For KNN Algorithm\n",
        "from sklearn import svm                              #For Support Vector Machine\n",
        "from sklearn.tree import DecisionTreeClassifier, export_graphviz\n",
        "from sklearn import tree                             #For Decision tree algorithm  \n",
        "from sklearn.ensemble import RandomForestClassifier  #For Random Forest Classifier\n"
      ],
      "execution_count": null,
      "outputs": []
    },
    {
      "cell_type": "markdown",
      "metadata": {
        "id": "JhAqYMHdP2GH"
      },
      "source": [
        "** ***`Creating Generic function for making classification model to get performance of each models`*** **"
      ]
    },
    {
      "cell_type": "code",
      "metadata": {
        "id": "uAIng2eyP03t"
      },
      "source": [
        "def classification_model(model, data, predictors, outcome):\n",
        "      model.fit(data[predictors],data[outcome])\n",
        "      predictions = model.predict(data[predictors])\n",
        "      print(predictions)\n",
        "      accuracy = metrics.accuracy_score(predictions,data[outcome])\n",
        "      print('\\nPrediction Accuracy : %s' % '{0:.3%}'.format(accuracy))\n",
        "      print()"
      ],
      "execution_count": null,
      "outputs": []
    },
    {
      "cell_type": "markdown",
      "metadata": {
        "id": "Sl9rvmZQTFSE"
      },
      "source": [
        "**`1. LOGISTIC REGRESSION`**"
      ]
    },
    {
      "cell_type": "code",
      "metadata": {
        "id": "oJc_w3sETDWU",
        "outputId": "ddae5e9c-bd0f-483b-9d1a-3dd039c5ab9d",
        "colab": {
          "base_uri": "https://localhost:8080/",
          "height": 836
        }
      },
      "source": [
        "outcome_var=['winner']\n",
        "predictor_var = ['team1', 'team2', 'venue', 'toss_winner','city','toss_decision']\n",
        "model =LogisticRegression()\n",
        "classification_model(model, df,predictor_var,outcome_var)\n",
        "# Prediction Accuracy : 31.217%"
      ],
      "execution_count": null,
      "outputs": [
        {
          "output_type": "stream",
          "text": [
            "[ 9  1  1  9  5  9  1  5  9  1  2  3  9  2 10  1  9  5  9  1 10  2  2  1\n",
            "  9  9  2  1  2  3  2  9  2  1  9  9  1  9  9  7  9  9  9  3  3  9  5  9\n",
            "  9  1 10  9  2  9  5  1  9  3  5  3  6  5  1  2  6  5  3  3  3  3  5  2\n",
            " 10  5  1  2  6  1  5  1  6  2  6  3  3  2  9  2  1  3  9  1  6  5  5  1\n",
            "  9  3  1 10  1  1  2  3  2  1  5  3  3  5  3  2  1  5  6  6  2  3  5  9\n",
            "  5  1  2  5  5  3  5  1  1  6  3  1  6  1  5  6  6  2  5  1  3  5  1  5\n",
            "  9  5  6  6  6  5  2  5  1  1  5  1  6  3  5  5  9  1  1  9  6  6  5  2\n",
            "  5  3  6  6  1  1  2  2  9  2  5  9  5  2  3  3  5  3  6  2  5  9  2  3\n",
            "  9  2  6  5  3  6  2  5  2  5  5  2  6  5  2  5  5  6  5  6  5  3  5  1\n",
            "  3 10  1  1  2  5  6  5  9  3  2  9  5  1  2  2  2  2  5  3  5  5 10  2\n",
            "  6  3  9 10  1  1  6  5  6  9  2  9  5  6  2  9  1  2  9  1  9  9  2 10\n",
            "  9  3  1  9 10  2  9  5  1  9  1  5  7  9  3  3  2  1  5 10  6 10  3  1\n",
            "  5  9  3  1  9  9  7  5 10  2  1  3 10  3  2  1  1  1  5  3  2  9  9  3\n",
            "  2  1 10  2  3  3  1  5  9  2  5 10  2  5  1  6  5  6  5  9  9  5  9  1\n",
            "  2  1 10  6 10  2  5  2  5  1  5 14  6  3  6  5  7 10  1  3  5  6  9  1\n",
            "  6  6  1  9 10  5  3  2 10  1  9  3  5  9 10  1  1  1  3  3  5  2  3  9\n",
            "  5  5 10  5  1  1  9  3 10 10  6  3  7  9 10  9  3 10  1  5 10  2  3  5\n",
            "  9  5  9  9  1  5  2  6  1  3  9  1  1 10  5  1  5 10  2 10  3  1 10  5\n",
            "  6  1  9  9 10  3  6  9  1  6  9  6  2  5  1  3  6  2 10  3  5  5 10  2\n",
            "  2  1  1  6  9  2  5  6  6  9  3  1 10  5  3  9  1  6  3  6  2  2  6  9\n",
            "  9  3  9  1  5  9  9  9  9  1  2  5  6  2  3  9  2  9  2  6  6  9  5  2\n",
            "  3  2  2  1  9  3  2  9  1  2  2  6  9  2  3  7 10  2  9  1  3  6  2 10\n",
            "  2  1 10  2  6  3  2  9  2  3  2  3  6  5  2  9  5  3  3  9  1  3  9  5\n",
            "  2  5  2  1  3  7  5  2  6  1  5 10  5  9  1  6  6  2  3  6  1  1  2  2\n",
            "  6  2  9  3  2 10  9  6  1 10  3  3  9  1  9  5  2  9  1  2  3  9  9  1\n",
            "  9  2  9  9  2  3  9  2  9  9  9  9  2  2  3 10  3  9  2  3  5 10  2  2\n",
            "  7  3  2  9 10  2  2  1  3  9  9  5  1  9  2  9  3  6  3  9  1  2  3  9\n",
            "  2  1  1 10  2  2  3  9  1  9  1  3  9  2  1  6  3  2  3  9  2  2  1 10\n",
            "  1  9  9  6  2 10  6  3  2  2  1  2  2  1  3  9  6  6  5  2  6  2  2  6\n",
            "  3  2  1  9  5  2  3 10  2  3  9  3  9  1  1  9  3  5  3  3  1  9  3  1\n",
            "  6  2  1  2  2  9  1  7 10  5  2  1  9  6  3  6  9  3  2  3  9  5  2  9\n",
            "  3  3  6  2  5  9  7  1  5  2  2  1]\n",
            "\n",
            "Prediction Accuracy : 31.217%\n",
            "\n"
          ],
          "name": "stdout"
        },
        {
          "output_type": "stream",
          "text": [
            "/usr/local/lib/python3.6/dist-packages/sklearn/utils/validation.py:760: DataConversionWarning: A column-vector y was passed when a 1d array was expected. Please change the shape of y to (n_samples, ), for example using ravel().\n",
            "  y = column_or_1d(y, warn=True)\n",
            "/usr/local/lib/python3.6/dist-packages/sklearn/linear_model/_logistic.py:940: ConvergenceWarning: lbfgs failed to converge (status=1):\n",
            "STOP: TOTAL NO. of ITERATIONS REACHED LIMIT.\n",
            "\n",
            "Increase the number of iterations (max_iter) or scale the data as shown in:\n",
            "    https://scikit-learn.org/stable/modules/preprocessing.html\n",
            "Please also refer to the documentation for alternative solver options:\n",
            "    https://scikit-learn.org/stable/modules/linear_model.html#logistic-regression\n",
            "  extra_warning_msg=_LOGISTIC_SOLVER_CONVERGENCE_MSG)\n"
          ],
          "name": "stderr"
        }
      ]
    },
    {
      "cell_type": "markdown",
      "metadata": {
        "id": "pjL3RP_jUQas"
      },
      "source": [
        "**`2. NAVIE BAYES CLASSIFIER`**"
      ]
    },
    {
      "cell_type": "code",
      "metadata": {
        "id": "jXEviGUzVQRD",
        "outputId": "9bb91316-cf38-442b-f171-b518d3b52013",
        "colab": {
          "base_uri": "https://localhost:8080/",
          "height": 694
        }
      },
      "source": [
        "outcome_var=['winner']\n",
        "predictor_var = ['team1', 'team2', 'venue', 'toss_winner','city','toss_decision']\n",
        "model = GaussianNB() \n",
        "classification_model(model, df,predictor_var,outcome_var)\n",
        "# Prediction Accuracy : 19.312%"
      ],
      "execution_count": null,
      "outputs": [
        {
          "output_type": "stream",
          "text": [
            "[12 12 12 12  5 12  1  5 12 12 12  3 12 12  7 12  3  5 12 12 10 12 12 12\n",
            " 12 12 12 12 12  8 12 12 12  1 12 12  1 12 12 12 12  3 12 12  3 12  1 12\n",
            " 12 12  7 12 12 12  5 12  3  3  1  3  5  5  1  2  6  5 12 12 12  3  5 12\n",
            "  5  5  2 12 12  5  5  5  6 12  6  3 12 12 12  2 12  3 12  1 12  5  2 12\n",
            " 12 12  1  7 12 12  2  3 12 12  5 12 12  5  3  2 12  5 12  6 12  3  5  9\n",
            "  3  1 12  5  5  3  5  2  1  6 12  1  6  2  2  6  6  2  5  1 12  1  1  5\n",
            " 12  5  1  6  6  2 12  5  1 12  5  1  6 12  5  5  9  1 12 12  6  5  5 12\n",
            "  5  6  1  6 12 12 12  2 12 12  5  6  3  2 12  3  5 12  5  2  5 12  2  3\n",
            " 12 12  5  5  3  6 12  5 12  5  5  2  6  5  2  2  5  6  5  6  2  3  1  1\n",
            "  3  7 12 12  2  5  6  5 12  3  2 12  5  2  2  2  2  2  5 12 10  2 13  2\n",
            "  6  3 12 13 12 12 12  5 12 12 12 12  5 13 12 12 12 12 12 12 12 12 12 13\n",
            " 12 12 12 12 10 12 12  5 12 12 12  5 12 12 12  3  2 12  9 10 12 10 12 12\n",
            "  5 12  3  1 12 12 12  7 10 12  1 12 10  3 12 12  1  3  5 12 12 12 12  3\n",
            " 12 12 13  2  3 12 12  5 12  2  5 10 12  5 12  5 10  6  5 12 12  5 12  1\n",
            " 12 12 13  3 10 12  6  2  5 12  5  4  6  3  1  5  1  5 12  3  5 13 12 12\n",
            " 12 12  2 12 10  5  3 12  7  1 12 12  5 12  1 12  1  1  3 12  5 12  3 12\n",
            "  5  1 13  5 12  1 12  3 13  7  1 12  2 12 10 12  3 12  1  5 10  2  3  2\n",
            " 12  5 12 12  2  9  2 10  1 12 12 12  1 10  1  1  5  1  2 10  3  1 13  9\n",
            "  6  1 12 12  1 12 13 12 12 12 12 13 12  5 12 12 10 12 13  3  1  2  7  2\n",
            "  2  1 12  5  9 12  2 12  6 12 12  1  7  2  6  3  1 13 12  5 12  2  1 12\n",
            "  3  3 12 12  5 12  9  3 12 12 12  5 10  5  3 12  2  6  2 10  3 12  5 12\n",
            " 12 12 12 12 12  3 12 12 12 12 12 12  3 12 12 12  5 12 12 12  9  3 12 10\n",
            " 12  1  7 12  5  3 12  9 12  3 12  3  1  5 12 12  2  3 12 12 12  3 12  1\n",
            " 12  5 12  1  3 12  5  2 13  1  5 10  6 12 12 10  6  2  3 10  1  5 12 12\n",
            "  1 12 12  9 12 13 12 10 12 10  3 12 12 12 12 12 12 12  1 12 12 12 12  1\n",
            " 12 12 12 12 12  3 12 12 12 12  3 12 12 12 12 13  3 12  1  8 13 10 12 12\n",
            " 12  3 12 12 13 12 12 12  3 12 12  9 12 12 12 12 12 12 12  3 12 12  3 12\n",
            " 12 12 12 10 12 12  3 12  1 12 12  3 12 12 12 10  3 12  3 12 12 12 12 10\n",
            " 12 12 12  6 12  7  6 12 12 12 12 12 12 12 12 12  6 10  2 12 12 12 12 12\n",
            " 12 12 12 12  5 12  3  5 12 12 12 12 12 12 12 12  3  5 12  3 12 12 12 12\n",
            " 12 12 12 12 12 12 12 12  5  2 12 12 12 12  3 12 12  9 12 12 12  5 12 12\n",
            "  3 12  1 12  5  3 12  1  5 12 12  1]\n",
            "\n",
            "Prediction Accuracy : 19.312%\n",
            "\n"
          ],
          "name": "stdout"
        },
        {
          "output_type": "stream",
          "text": [
            "/usr/local/lib/python3.6/dist-packages/sklearn/naive_bayes.py:206: DataConversionWarning: A column-vector y was passed when a 1d array was expected. Please change the shape of y to (n_samples, ), for example using ravel().\n",
            "  y = column_or_1d(y, warn=True)\n"
          ],
          "name": "stderr"
        }
      ]
    },
    {
      "cell_type": "markdown",
      "metadata": {
        "id": "uSNLc-0dUekx"
      },
      "source": [
        "**`3. KNN ALGORITHM`**"
      ]
    },
    {
      "cell_type": "code",
      "metadata": {
        "id": "CjYoGs99VREs",
        "outputId": "e78e15e1-ad69-4963-aea1-0fc7f5f1e38e",
        "colab": {
          "base_uri": "https://localhost:8080/",
          "height": 694
        }
      },
      "source": [
        "model = KNeighborsClassifier(n_neighbors=3)\n",
        "classification_model(model, df,predictor_var,outcome_var)\n",
        "# Prediction Accuracy : 66.005%"
      ],
      "execution_count": null,
      "outputs": [
        {
          "output_type": "stream",
          "text": [
            "[10  3  3  9  3 10  1  9 11  1  2  1  9  2  9  9  3  2 10  3 10  1  8  1\n",
            " 11  9  2 11  2  3  2 10  2  1  9 10  1 11  7  2  7  9  9  1  2  8 10  9\n",
            "  7  9 10  7  1 11  4 11  2  1 10  3  5  7  1  2  6  7  5  6  9  6  5  1\n",
            "  9  3  1  3  9  6  5  4  2  1  6  9  5  1  5  2  6  1  5  2  6  9  2  1\n",
            "  9  7  1  9  2  1  5  7  6  9  5  9  1  5  3  2  6  7  6  1  6  1  1  9\n",
            "  4  4  2  4  7  2  3  3  2  7  3  1  5  4  9  5  5  1  3  5  3  2  4  5\n",
            "  5  3  2  5  5  7  9  4  1  4  4  3  1  3  4  3  9  1  4  3  7  4  3  2\n",
            "  3  7  3  2  4  4  1  1  9  2  3  6  3  2  1  3  5  4  6  1  4  5  1  3\n",
            "  9  1  6  1  3  6  1  2  1  5  7  2  2  5  1  2  2  6  1  6  2  3  1  4\n",
            "  3  9  6  4  1  5  6  5  4  1  2  4  4  2  1  3  2  5  2  6  3  1 13  2\n",
            "  6  1  9 13  4  2  1  5  9  4  2  4  4  1  2  9  5  2  9  1  6  5  3  2\n",
            "  4  3  6  3  7  2  6  5  1 10  1  5  1  2  6  9  2  1  3 10  6 10  9  2\n",
            "  5  9  3  1  9  9  2  5  5  2  1  4  7  3  1  5  1  1  5  5  7 11  6  7\n",
            "  1  2 13  1  3  7  1  5  9  2  4  4  2  3  1  6  3  2  7  5  9  5  7  1\n",
            "  2  6  6  1  3  7  9  2  7  1  2  4  7  9  2  5  2  5  1  3  2  6 10  1\n",
            "  5  3  2  5  6  9  1  5  7  1  4  3  6  9  2  4  6  2  1  5  2  2  1 10\n",
            "  7  5 13 10  2  1  9  3 13 10  1  5  2  6  5  9  3  9  6  4 10  5  3  1\n",
            "  9  5  3  9  1  5  2  6  1  5 10  6  1  4 10  7  5  2  2 10  9  1  6  3\n",
            "  6  1  5  9  2  3  1 10  2  6  9  1  2  5  1  9 10  7  6  3 10  1  6  2\n",
            "  5  6  3  5  5  3  3  9  5  9  7  2  6  3  5  6  7  5  3  6 10  5  1  6\n",
            "  3  6  5  1  2  2  6  9 10  5  2  3  1  5  7 10  2  6  5  2  6  9 10  2\n",
            "  9  2  5  1  9  3  2  9  1  2  1  5  2  1  5  5  5  2  6  9  3  6  2  6\n",
            "  6  1 11  2  6  1  7  6 10  3  7  6  1  5  3 10  2  6  5  7  1  3 10  1\n",
            "  6  5  2  1  9  6  1  2  7  1  5 10  6  9  1  2  2  5  3  1  1  5  5  5\n",
            "  1  2  8  3  1  8  7  2  1 10  7 10  9  1  9  3  7 10  7  2  1 11  7  1\n",
            "  7  7 10  9  2  2  9  2 10 10  3  7 10  8  9 11  1 10  1  3  2 10  1  2\n",
            " 11  9  8  7 11  8  2  3  3  2 10  3  5  9  2  5  5  7 10  9  1  2  3  9\n",
            "  7  1  2  9  5  2  3  5  6  7  1  3 10  7  1  6  2  5  1  6  2  1  5 10\n",
            "  1  2 10  6  1 10  6  2  3  5  1  1  2  1  3  5  6  2  1  5  5  6  2  5\n",
            "  5  2  1  6  5  2  1 10  9  7 10  5  9  6  5 10  2  5 10  7  2  9  5  9\n",
            "  5  7  1  2  5 10  1  9 10  1  2  6  7 10  3  7  5  3  6  5  6  7  1 10\n",
            "  3  5  1  2  7  3  9  1  1  5  5  1]\n",
            "\n",
            "Prediction Accuracy : 66.005%\n",
            "\n"
          ],
          "name": "stdout"
        },
        {
          "output_type": "stream",
          "text": [
            "/usr/local/lib/python3.6/dist-packages/ipykernel_launcher.py:2: DataConversionWarning: A column-vector y was passed when a 1d array was expected. Please change the shape of y to (n_samples, ), for example using ravel().\n",
            "  \n"
          ],
          "name": "stderr"
        }
      ]
    },
    {
      "cell_type": "markdown",
      "metadata": {
        "id": "oSF4aaDxUmPK"
      },
      "source": [
        "**`4. SUPPORT VECTOR MACHINE`** "
      ]
    },
    {
      "cell_type": "code",
      "metadata": {
        "id": "7cUclRDgVR2c",
        "outputId": "28e18dc8-2056-476f-b199-dc8a3489cbb3",
        "colab": {
          "base_uri": "https://localhost:8080/",
          "height": 694
        }
      },
      "source": [
        "model = svm.SVC(kernel='rbf', C=1, gamma=1) \n",
        "outcome_var=['winner']\n",
        "predictor_var = ['team1', 'team2', 'venue', 'toss_winner','city','toss_decision']\n",
        "classification_model(model, df,predictor_var,outcome_var)\n",
        "# Prediction Accuracy : 87.698%"
      ],
      "execution_count": null,
      "outputs": [
        {
          "output_type": "stream",
          "text": [
            "[10 11  2  9  3 10  1  9  7  1  2  1  8  2  9  1  3  2 10  3 10  1  8  1\n",
            " 11  9  3 11  2  3  2 10 11  1  9 10  1 11  7 11  7  9 11  1  2  8 10  9\n",
            "  7  9  7 10  1 11  3 11  2  1  1  3  5  7  1  2  6  7  5  6  9  6  5  1\n",
            "  9  5  1  3  9  6  5  3  9  1  6  3  4  1  5  2  6  1  5  2  6  9  2  1\n",
            "  9  7  1  9  6  1  5  3  6  9  5  9  1  5  3  2  6  5  6  5  6  1  3  7\n",
            "  4  5  2  4  7  6  9  4  7  9  4  1  6  3  9  7  5  1  9  6  5  9  3  5\n",
            "  6  7  4  6  5  7  9  5  1  7  4  3  1  7  3  6  9  5  4  9  7  2  3  2\n",
            "  5  7  3  4  3  4  2  1  7  2  4  7  3  2  1  3  5  4  6  3  4  9  1  3\n",
            "  6  1  6  2  3  6  1  2  1  5  7  2  3  5  1  9  7  6  5  6  2  3  1  4\n",
            "  3  9  6  4  1  5  6  5  4  1  2  5  4  1  1  5  3  5  2  6  3  7 13  2\n",
            "  6  1  9 13  4  2 12  5  9  7  2  5  4  1 12  9  1  3  9  1  6  5  3  5\n",
            "  4  2  6  3  7  2  6  5  1 12  2  5  1 12  7  3  2  1  3 13  6 13  9  6\n",
            "  5  9  3  4  9 12  4  9  5  2  6  4 14  3  1  5  1  3  5  5  7 13  6  3\n",
            "  5  2  9  1  3  7  1  5  9  2  4  5  2  6  1  6  3  9  7  5  9  5 13  1\n",
            "  2  6  7  1  4  7  9  2  7  1  2  4  7  3  1  5  2  6  1  3  2  6  9  1\n",
            "  5  3  1  5  6  9  1  5  7  1  9  3  4  9  2  4  6  2  5  5  2  2  1 10\n",
            "  7  1  9 10  2  1  5  3 13 10  1  5  2  6 13  9  3 10  6  5 10  5  3  7\n",
            "  9  5  3  9  1  5  2  6  1  5  7  6  1  5 10  7  5  3  2 10  3  1  6  3\n",
            "  6  1  5  9  2  3  1 10  2  6  9  1 13  5  1  9 10  9  7  3 10  5  6  1\n",
            "  1  2  3  9  6  3  7  9  5  9  5  2 10  5  6  9  7  5  9  6 10  5  1  6\n",
            "  3  6  5  1  2  9 10  9 10  1  2  6  1  5  3 10  2  7  3  2  1  9 10  2\n",
            "  9  3 10  1  9  3  2  9  1  2  5  9  2  1  5  6  5  3  6  9  3  1  2  7\n",
            "  6  1  7  2  6  1  7  9 10  3  7  3  1  5  3 10  2  6  5  7  1  3 10  1\n",
            "  6  5  2  1  3 10  5  2 10  1  5 10  7  9  1  3  5  6  3  1  1  3  5  1\n",
            "  1  2  8  3  1  8  7  2  8  9  3 10  9  1 10  3  7 10  8  2  1 11  7  1\n",
            "  8  7 10  9  1  2  7  2 11 10  3  9 10  8  3 10  1  7  9  3  2 10  1  3\n",
            " 11  3  8  7 11  8  2  3  3 10 10  3  1  9  2 10  5  7 10  3  1  2  6  9\n",
            "  7  1  2  9  5  2  3  5  6  7  1  5 10  7  1  6  2  5  3  6  2  1  5 10\n",
            "  1  9 10  6  1 10  6  2  3  5  1  3  2  1  3  5  6  2  7  5  5  6  2  5\n",
            "  5  2  7  6  5  2  1 10  9  7 10  5  9  6  1 10  2  5  1  7  2  9  5  9\n",
            "  5  7  1  3  5  7  1  9 10  1  2  6  7 10  3  7  5  3  6  1  6  7  1 10\n",
            " 14  5  1  2  7  3  9  1  1  7  5  1]\n",
            "\n",
            "Prediction Accuracy : 87.698%\n",
            "\n"
          ],
          "name": "stdout"
        },
        {
          "output_type": "stream",
          "text": [
            "/usr/local/lib/python3.6/dist-packages/sklearn/utils/validation.py:760: DataConversionWarning: A column-vector y was passed when a 1d array was expected. Please change the shape of y to (n_samples, ), for example using ravel().\n",
            "  y = column_or_1d(y, warn=True)\n"
          ],
          "name": "stderr"
        }
      ]
    },
    {
      "cell_type": "markdown",
      "metadata": {
        "id": "TkAKqSieU0mA"
      },
      "source": [
        "**`5. DECISION TREE ALGORITHM`**"
      ]
    },
    {
      "cell_type": "code",
      "metadata": {
        "id": "zqKYJEooVS1k",
        "outputId": "cacbe34c-469c-4eb0-bc2e-dc1a021f0ab6",
        "colab": {
          "base_uri": "https://localhost:8080/",
          "height": 638
        }
      },
      "source": [
        "model = tree.DecisionTreeClassifier(criterion='gini')\n",
        "outcome_var=['winner']\n",
        "predictor_var = ['team1', 'team2', 'venue', 'toss_winner','city','toss_decision']\n",
        "classification_model(model, df,predictor_var,outcome_var)\n",
        "# Prediction Accuracy : 87.963%"
      ],
      "execution_count": null,
      "outputs": [
        {
          "output_type": "stream",
          "text": [
            "[10 11  2  9  3 10  1  9  7  1  2  1  8  2  9  1  3  2 10  3 10  1  8  1\n",
            " 11  9  3 11  2  3  2 10 11  1  9 10  1 11  7 11  7  9 11  1  2  8 10  2\n",
            "  7  9  7 10  1 11  3 11  2  1  1  3  5  6  1  2  6  7  1  6  9  6  5  1\n",
            "  9  5  1  3  9  6  5  3  2  1  6  3  4  1  5  2  6  1  5  2  6  9  2  1\n",
            "  9  7  1  9  3  1  5  3  6  9  5  9  1  5  3  2  6  5  6  5  6  1  3  7\n",
            "  4  5  2  4  7  6  3  4  7  9  4  1  6  3  9  7  5  1  3  6  5  9  3  5\n",
            "  6  7  4  6  5  7  9  5  1  7  4  3  1  7  3  6  9  5  4  9  7  2  3  2\n",
            "  5  7  3  4  3  4  2  1  7  2  4  6  3  2  1  3  5  4  6  3  4  9  1  3\n",
            "  6  1  6  2  3  6  1  2  1  5  7  2  3  5  1  9  7  6  1  6  2  3  1  4\n",
            "  3  9  6  4  1  5  3  5  4  1  2  5  4  1  1  5  3  5  2  6  3  1 13  2\n",
            "  6  1  9 13  4  2 12  5  9  7  2 12  4  1 12  9  1  3  9  1  6  5  3  5\n",
            "  4  2  6  3  7  2  6  5  1 12  2  5  1 12  7  3  2  1  3 13  5 13  9  3\n",
            "  5  9  3  4  9 12  4  9  5  2  6  4 14  3  1  5  1  3  5  1  7 13  6  3\n",
            "  5  2  9  1  3  7  1  5  9  2  4  5  2  6  1  6  3  2  7  5  3  5 13  1\n",
            "  2  6  7  1  4  7  9  2  7  1  2  4  7  3  1  5  2  6  1  3  2  6  9  1\n",
            "  5  3  1  5  6  9  1  5  7  1  9  3  4  9  2  4  1  2  5  5  2  2  1 10\n",
            "  6  1  9 10  2  1  5  3 13 10  1  5  2  6 13  9  3 10  1  5 10  5  3  7\n",
            "  9  5  3  9  1  5  2  6  1  5  7  6  1  5 10  7  5  3  2 10  3  1  6  3\n",
            "  6  1  5  9  2  3  1 10  2  5  9  1 13  5  1  9 10  9  7  3 10  5  6  1\n",
            "  1  2  3  9  6  3  7  9  5  9  5  2 10  5  6  9  7  5  9  6 10  5  1  6\n",
            "  3  6  5  1  2  9 10  9 10  1  2  6  1  5  3 10  2  6  3  2  1  9 10  2\n",
            "  9  3 10  1  9  3  2  9  1  2  5  9  2  1  5  6  5  3  6  9  3  1  2  7\n",
            "  6  1  7  2  6  1  7  9 10  3  7  3  1  5  3 10  2  6  5  7  1  3 10  1\n",
            "  6  5  2  1  3 10  1  2 10  1  5 10  7  3  1  3  5  6  3  1  1  3  5  1\n",
            " 11  2  8  3  1  8  7  2  8  9  3 10  2  1 10  3  7 10  8  2  1 11  7  1\n",
            "  8  7 10  9  1  2  7  2 11 10  3  9 10  8  3 10  1  7  9  3  2 10  1  3\n",
            " 11  3  8  7 11  8  2  3  3 10 10  3  1  9  2 10  5  6 10  3  1  2  6  9\n",
            "  7  1  2  9  5  2  3  5  6  7  1  5 10  7  1  6  2  5  3  6  2  1  5 10\n",
            "  1  9 10  6  1 10  6  2  3  5  1  3  2  1  3  5  3  2  1  5  5  6  2  5\n",
            "  5  2  7  6  5  2  1 10  9  7 10  5  9  6  1 10  2  5  1  7  2  9  5  9\n",
            "  5  7  1  3  5  7  1  9 10  1  2  6  7 10  3  6  5  3  6  1  6  7  1 10\n",
            " 14  5  1  2  7  3  9  1  1  7  5  1]\n",
            "\n",
            "Prediction Accuracy : 87.963%\n",
            "\n"
          ],
          "name": "stdout"
        }
      ]
    },
    {
      "cell_type": "markdown",
      "metadata": {
        "id": "DHgJzlvwU_LX"
      },
      "source": [
        "**`6. RANDOM FOREST CLASSIFIER `**"
      ]
    },
    {
      "cell_type": "code",
      "metadata": {
        "id": "0aZqbQMZVPL_",
        "outputId": "abd349cb-5768-4906-b660-dc822df44f59",
        "colab": {
          "base_uri": "https://localhost:8080/",
          "height": 694
        }
      },
      "source": [
        "model = RandomForestClassifier(n_estimators=100)\n",
        "outcome_var = ['winner']\n",
        "predictor_var = ['team1', 'team2', 'venue', 'toss_winner','city','toss_decision']\n",
        "classification_model(model, df,predictor_var,outcome_var)\n",
        "# Prediction Accuracy : 87.963%"
      ],
      "execution_count": null,
      "outputs": [
        {
          "output_type": "stream",
          "text": [
            "[10 11  2  9  3 10  1  9  7  1  2  1  8  2  9  1 11  2 10  3 10  1  8  1\n",
            " 11  9  3 11  2  3  2 10 11  1  9 10  1 11  7 11  7  9 11  1  2  8 10  9\n",
            "  7  9  7 10  1 11  3 11  2  1  1  3  5  6  1  2  6  7  1  6  9 14  5  1\n",
            "  9  5  1  3  9  6  7  3  2  1  6  3  4  1  5  2  6  1  5  2  6  9  2  1\n",
            "  9  7  1  9  3  1  5  7  6  9  5  9  1  5  3  2  6  5  6  5  6  1  3  7\n",
            "  4  5  2  4  7  6  9  4  7  9  4  1  6  3  9  7  5  1  9  6  5  9  3  5\n",
            "  6  7  4  6  5  7  9  5  1  7  4  3  1  7  3  6  9  5  4  9  7  2  3  2\n",
            "  5  7  3  4  3  4  2  1  7  2  4  7  3  2  1  3  5  4  6  3  4  9  1  3\n",
            "  6  1  6  2  3  6  1  2  1  5  7  2  3  5  1  9  7  6  1  6  2  3  9  4\n",
            "  3  9  6  4  1  5  6  7  4  1  2  5  4  1  1  5  3  5  2  6  3  7 13  2\n",
            "  6  1  9 13  4  2 12  5  9  7  2 12  4  1 12  9  1  3  9  1  6  5  3  5\n",
            "  4  2  6  3  7  2  6  5  1 12  2  5  1 12  7  3  2  1  3 13  6 13  9  3\n",
            "  7  9  3  4  9 12  4  9  5  2  6  4 14  3  1  5  1  3  5  1  7 13  6  7\n",
            "  5  2  9  1  3  7  1  5  9  2  4  5  2  6  1  6  3  2  7  5  3  5 13  1\n",
            "  2  6 13  1  4  7  9  2  7  1  2  4  7  3  1  5  2  6  1  3  2  6  9  1\n",
            "  5  3  1  5  6  9  1  5  7  1  9  3  4  9  2  4  1  2  5  5  2  2  1 10\n",
            "  6  1  9 10  2  1  5  3 13 10  1  5  2  6 13  9  3 10  1  5 10  5  3  7\n",
            "  9  5  3  9  1  5  2  6  1  5  7  6  1  5 10  7  5  3  2 10  3  1  6  3\n",
            "  6  1  5  9  2  3  1 10  2  6  9  1 13  7  1  9 10  9 13  3 10  5  6  1\n",
            "  1  2  3  9  6  3  7  9  5  9  5  2 10  5  6  9  7  5  9  6 10  5  1  6\n",
            "  3  6  5  1  2  9 10  9 10  1  2  6  1  5  7 10  2  7  3  2  1  9 10  2\n",
            "  9  3 10  1  9  3  2  9  1  2  5  9  2  1  5  6  5  3  6  9  3  1  2  7\n",
            "  6  1  7  2  6  1  7  9 10  3  7  3  1  5  3 10  2 14  5  7  1  3 10  9\n",
            "  6  5  2  1  3 10  1  2 10  1  5 10  7  3  1  3  5  6  3  1  1  3  5  1\n",
            " 11  2  8  3  1  8  7  2  8  9  7 10  9  1 10  3  7 10  8  2  1 11  7  1\n",
            "  8  7 10  9  1  2  7  2 11 10 11  9 10  8  3 10  1  7  9  3  2 10  1  3\n",
            " 11  3  8  7 11  8  2  3  3 10 10  3  1  9  2 10  5  6 10  3  1  2  6  9\n",
            "  7  1  2  9  5  2  3  5  6  7  1  5 10  7  1  6  2  5  3  6  2  1  5 10\n",
            "  1  9 10  6  1 10  6  2  3  5  1  3  2  1  3  5  6  2  7  5  5  6  2  5\n",
            "  5  2  7  6  5  2  1 10  9  7 10  5  9  6  1 10  2  5  1  7  2  9  5  9\n",
            "  5  7  1  3  5  7  1  9 10  1  2  6  7 10  3  6  5  3  6  1  6  7  1 10\n",
            " 14  5  1  2  7  3  9  1  1  7  5  1]\n",
            "\n",
            "Prediction Accuracy : 87.963%\n",
            "\n"
          ],
          "name": "stdout"
        },
        {
          "output_type": "stream",
          "text": [
            "/usr/local/lib/python3.6/dist-packages/ipykernel_launcher.py:2: DataConversionWarning: A column-vector y was passed when a 1d array was expected. Please change the shape of y to (n_samples,), for example using ravel().\n",
            "  \n"
          ],
          "name": "stderr"
        }
      ]
    },
    {
      "cell_type": "code",
      "metadata": {
        "id": "bgiFT_YvNdAr"
      },
      "source": [
        "# We have got Random Forest Classifier and Decision Tree Algorithm accuray equal hence i prefred to use Random Forest Classifier"
      ],
      "execution_count": null,
      "outputs": []
    },
    {
      "cell_type": "markdown",
      "metadata": {
        "id": "l5tGBKcJXHcO"
      },
      "source": [
        "Random Forest Classifier having the more accuracy. So predicting the winner based on random forest classifier \n",
        "\n",
        "---\n",
        "\n",
        "\n",
        "**Predicting winner based on 3 factors**\n",
        "\n",
        "*1.Previous Performances*\n",
        "\n",
        "*2.Based on Toss*\n",
        "\n",
        "*3.Based on Venue*\n",
        "\n",
        "---\n",
        "---\n",
        "\n",
        "***1. Based on previous performances of team*** \n",
        "\n",
        "---\n",
        "---"
      ]
    },
    {
      "cell_type": "code",
      "metadata": {
        "id": "J3t6iHCVXlki",
        "outputId": "d3bbf7bd-d55f-41a3-d870-5dfdf3506002",
        "colab": {
          "base_uri": "https://localhost:8080/",
          "height": 197
        }
      },
      "source": [
        "df.head()"
      ],
      "execution_count": null,
      "outputs": [
        {
          "output_type": "execute_result",
          "data": {
            "text/html": [
              "<div>\n",
              "<style scoped>\n",
              "    .dataframe tbody tr th:only-of-type {\n",
              "        vertical-align: middle;\n",
              "    }\n",
              "\n",
              "    .dataframe tbody tr th {\n",
              "        vertical-align: top;\n",
              "    }\n",
              "\n",
              "    .dataframe thead th {\n",
              "        text-align: right;\n",
              "    }\n",
              "</style>\n",
              "<table border=\"1\" class=\"dataframe\">\n",
              "  <thead>\n",
              "    <tr style=\"text-align: right;\">\n",
              "      <th></th>\n",
              "      <th>team1</th>\n",
              "      <th>team2</th>\n",
              "      <th>city</th>\n",
              "      <th>toss_decision</th>\n",
              "      <th>toss_winner</th>\n",
              "      <th>venue</th>\n",
              "      <th>winner</th>\n",
              "    </tr>\n",
              "  </thead>\n",
              "  <tbody>\n",
              "    <tr>\n",
              "      <th>0</th>\n",
              "      <td>10</td>\n",
              "      <td>3</td>\n",
              "      <td>15</td>\n",
              "      <td>1</td>\n",
              "      <td>3</td>\n",
              "      <td>28</td>\n",
              "      <td>10</td>\n",
              "    </tr>\n",
              "    <tr>\n",
              "      <th>1</th>\n",
              "      <td>1</td>\n",
              "      <td>11</td>\n",
              "      <td>27</td>\n",
              "      <td>1</td>\n",
              "      <td>11</td>\n",
              "      <td>21</td>\n",
              "      <td>11</td>\n",
              "    </tr>\n",
              "    <tr>\n",
              "      <th>2</th>\n",
              "      <td>8</td>\n",
              "      <td>2</td>\n",
              "      <td>29</td>\n",
              "      <td>1</td>\n",
              "      <td>2</td>\n",
              "      <td>31</td>\n",
              "      <td>2</td>\n",
              "    </tr>\n",
              "    <tr>\n",
              "      <th>3</th>\n",
              "      <td>11</td>\n",
              "      <td>9</td>\n",
              "      <td>16</td>\n",
              "      <td>1</td>\n",
              "      <td>9</td>\n",
              "      <td>13</td>\n",
              "      <td>9</td>\n",
              "    </tr>\n",
              "    <tr>\n",
              "      <th>4</th>\n",
              "      <td>3</td>\n",
              "      <td>7</td>\n",
              "      <td>2</td>\n",
              "      <td>0</td>\n",
              "      <td>3</td>\n",
              "      <td>17</td>\n",
              "      <td>3</td>\n",
              "    </tr>\n",
              "  </tbody>\n",
              "</table>\n",
              "</div>"
            ],
            "text/plain": [
              "   team1  team2  city  toss_decision  toss_winner  venue  winner\n",
              "0     10      3    15              1            3     28      10\n",
              "1      1     11    27              1           11     21      11\n",
              "2      8      2    29              1            2     31       2\n",
              "3     11      9    16              1            9     13       9\n",
              "4      3      7     2              0            3     17       3"
            ]
          },
          "metadata": {
            "tags": []
          },
          "execution_count": 69
        }
      ]
    },
    {
      "cell_type": "code",
      "metadata": {
        "id": "Wgxmfjw3e3uL",
        "outputId": "908b4531-83ea-4755-d0b0-310770a27a85",
        "colab": {
          "base_uri": "https://localhost:8080/",
          "height": 197
        }
      },
      "source": [
        "test=pd.read_csv(\"/content/drive/My Drive/Colab Notebooks/intern project/test.csv\")\n",
        "test.head()\n",
        "# Created a test.csv and encoded the city ,venue ,toss_decision with label indexing"
      ],
      "execution_count": null,
      "outputs": [
        {
          "output_type": "execute_result",
          "data": {
            "text/html": [
              "<div>\n",
              "<style scoped>\n",
              "    .dataframe tbody tr th:only-of-type {\n",
              "        vertical-align: middle;\n",
              "    }\n",
              "\n",
              "    .dataframe tbody tr th {\n",
              "        vertical-align: top;\n",
              "    }\n",
              "\n",
              "    .dataframe thead th {\n",
              "        text-align: right;\n",
              "    }\n",
              "</style>\n",
              "<table border=\"1\" class=\"dataframe\">\n",
              "  <thead>\n",
              "    <tr style=\"text-align: right;\">\n",
              "      <th></th>\n",
              "      <th>team1</th>\n",
              "      <th>team2</th>\n",
              "      <th>city</th>\n",
              "      <th>toss_winner</th>\n",
              "      <th>venue</th>\n",
              "      <th>toss_decision</th>\n",
              "      <th>date</th>\n",
              "      <th>winner</th>\n",
              "    </tr>\n",
              "  </thead>\n",
              "  <tbody>\n",
              "    <tr>\n",
              "      <th>0</th>\n",
              "      <td>RCB</td>\n",
              "      <td>DD</td>\n",
              "      <td>4</td>\n",
              "      <td>RCB</td>\n",
              "      <td>4</td>\n",
              "      <td>1</td>\n",
              "      <td>08-04-17</td>\n",
              "      <td>RCB</td>\n",
              "    </tr>\n",
              "    <tr>\n",
              "      <th>1</th>\n",
              "      <td>GL</td>\n",
              "      <td>SRH</td>\n",
              "      <td>0</td>\n",
              "      <td>SRH</td>\n",
              "      <td>0</td>\n",
              "      <td>0</td>\n",
              "      <td>09-04-17</td>\n",
              "      <td>SRH</td>\n",
              "    </tr>\n",
              "    <tr>\n",
              "      <th>2</th>\n",
              "      <td>KKR</td>\n",
              "      <td>MI</td>\n",
              "      <td>5</td>\n",
              "      <td>MI</td>\n",
              "      <td>5</td>\n",
              "      <td>0</td>\n",
              "      <td>09-04-17</td>\n",
              "      <td>MI</td>\n",
              "    </tr>\n",
              "    <tr>\n",
              "      <th>3</th>\n",
              "      <td>RCB</td>\n",
              "      <td>KXIP</td>\n",
              "      <td>3</td>\n",
              "      <td>RCB</td>\n",
              "      <td>3</td>\n",
              "      <td>1</td>\n",
              "      <td>10-04-17</td>\n",
              "      <td>KXIP</td>\n",
              "    </tr>\n",
              "    <tr>\n",
              "      <th>4</th>\n",
              "      <td>DD</td>\n",
              "      <td>RPS</td>\n",
              "      <td>1</td>\n",
              "      <td>RPS</td>\n",
              "      <td>1</td>\n",
              "      <td>0</td>\n",
              "      <td>11-04-17</td>\n",
              "      <td>DD</td>\n",
              "    </tr>\n",
              "  </tbody>\n",
              "</table>\n",
              "</div>"
            ],
            "text/plain": [
              "  team1 team2  city toss_winner  venue  toss_decision      date winner\n",
              "0   RCB    DD     4         RCB      4              1  08-04-17    RCB\n",
              "1    GL   SRH     0         SRH      0              0  09-04-17    SRH\n",
              "2   KKR    MI     5          MI      5              0  09-04-17     MI\n",
              "3   RCB  KXIP     3         RCB      3              1  10-04-17   KXIP\n",
              "4    DD   RPS     1         RPS      1              0  11-04-17     DD"
            ]
          },
          "metadata": {
            "tags": []
          },
          "execution_count": 70
        }
      ]
    },
    {
      "cell_type": "code",
      "metadata": {
        "id": "cMkKRcfbhZJl"
      },
      "source": [
        "test = test.drop([\"date\",\"winner\"], axis=1,inplace=False)\n",
        "# Remove date and winner to predict the winner "
      ],
      "execution_count": null,
      "outputs": []
    },
    {
      "cell_type": "code",
      "metadata": {
        "id": "iKK-6ApFhcmq",
        "outputId": "2fe76507-867d-4c9e-fdc1-a8b191ecb3e0",
        "colab": {
          "base_uri": "https://localhost:8080/",
          "height": 197
        }
      },
      "source": [
        "test.replace(encode, inplace=True)\n",
        "test.head(5)"
      ],
      "execution_count": null,
      "outputs": [
        {
          "output_type": "execute_result",
          "data": {
            "text/html": [
              "<div>\n",
              "<style scoped>\n",
              "    .dataframe tbody tr th:only-of-type {\n",
              "        vertical-align: middle;\n",
              "    }\n",
              "\n",
              "    .dataframe tbody tr th {\n",
              "        vertical-align: top;\n",
              "    }\n",
              "\n",
              "    .dataframe thead th {\n",
              "        text-align: right;\n",
              "    }\n",
              "</style>\n",
              "<table border=\"1\" class=\"dataframe\">\n",
              "  <thead>\n",
              "    <tr style=\"text-align: right;\">\n",
              "      <th></th>\n",
              "      <th>team1</th>\n",
              "      <th>team2</th>\n",
              "      <th>city</th>\n",
              "      <th>toss_winner</th>\n",
              "      <th>venue</th>\n",
              "      <th>toss_decision</th>\n",
              "    </tr>\n",
              "  </thead>\n",
              "  <tbody>\n",
              "    <tr>\n",
              "      <th>0</th>\n",
              "      <td>3</td>\n",
              "      <td>7</td>\n",
              "      <td>4</td>\n",
              "      <td>3</td>\n",
              "      <td>4</td>\n",
              "      <td>1</td>\n",
              "    </tr>\n",
              "    <tr>\n",
              "      <th>1</th>\n",
              "      <td>8</td>\n",
              "      <td>10</td>\n",
              "      <td>0</td>\n",
              "      <td>10</td>\n",
              "      <td>0</td>\n",
              "      <td>0</td>\n",
              "    </tr>\n",
              "    <tr>\n",
              "      <th>2</th>\n",
              "      <td>2</td>\n",
              "      <td>1</td>\n",
              "      <td>5</td>\n",
              "      <td>1</td>\n",
              "      <td>5</td>\n",
              "      <td>0</td>\n",
              "    </tr>\n",
              "    <tr>\n",
              "      <th>3</th>\n",
              "      <td>3</td>\n",
              "      <td>9</td>\n",
              "      <td>3</td>\n",
              "      <td>3</td>\n",
              "      <td>3</td>\n",
              "      <td>1</td>\n",
              "    </tr>\n",
              "    <tr>\n",
              "      <th>4</th>\n",
              "      <td>7</td>\n",
              "      <td>11</td>\n",
              "      <td>1</td>\n",
              "      <td>11</td>\n",
              "      <td>1</td>\n",
              "      <td>0</td>\n",
              "    </tr>\n",
              "  </tbody>\n",
              "</table>\n",
              "</div>"
            ],
            "text/plain": [
              "   team1  team2  city  toss_winner  venue  toss_decision\n",
              "0      3      7     4            3      4              1\n",
              "1      8     10     0           10      0              0\n",
              "2      2      1     5            1      5              0\n",
              "3      3      9     3            3      3              1\n",
              "4      7     11     1           11      1              0"
            ]
          },
          "metadata": {
            "tags": []
          },
          "execution_count": 72
        }
      ]
    },
    {
      "cell_type": "code",
      "metadata": {
        "id": "YZ_COjaHigRR"
      },
      "source": [
        "out = model.predict(test)"
      ],
      "execution_count": null,
      "outputs": []
    },
    {
      "cell_type": "code",
      "metadata": {
        "id": "kq2ggP1wimXI",
        "outputId": "370236fd-6d16-4a5c-f8b5-3dbac03a1819",
        "colab": {
          "base_uri": "https://localhost:8080/",
          "height": 34
        }
      },
      "source": [
        "out"
      ],
      "execution_count": null,
      "outputs": [
        {
          "output_type": "execute_result",
          "data": {
            "text/plain": [
              "array([ 3, 10,  1,  3, 11])"
            ]
          },
          "metadata": {
            "tags": []
          },
          "execution_count": 74
        }
      ]
    },
    {
      "cell_type": "markdown",
      "metadata": {
        "id": "hz36x5uV-ckH"
      },
      "source": [
        "***Create Predicted_winner variable and append all predicted winners to it***"
      ]
    },
    {
      "cell_type": "code",
      "metadata": {
        "id": "K1JmQAYzuZfj"
      },
      "source": [
        "predicted_winner=[]\n",
        "for i in out:\n",
        "    # print(list(dicVal.keys())[list(dicVal.values()).index(i)])\n",
        "    predicted_winner.append(list(dicVal.keys())[list(dicVal.values()).index(i)])"
      ],
      "execution_count": null,
      "outputs": []
    },
    {
      "cell_type": "markdown",
      "metadata": {
        "id": "fvGSHdDNE9rE"
      },
      "source": [
        "***Compare the predicted and actual winner for Accuracy***"
      ]
    },
    {
      "cell_type": "code",
      "metadata": {
        "id": "irau5jnbE6iY",
        "outputId": "53a8785c-b91b-43ee-db9d-7ff2967edbd7",
        "colab": {
          "base_uri": "https://localhost:8080/",
          "height": 52
        }
      },
      "source": [
        "actual_winner=pd.read_csv('/content/drive/My Drive/Colab Notebooks/intern project/test.csv')\n",
        "count_actual_winner=0\n",
        "k=0\n",
        "total=len(actual_winner['winner'])\n",
        "for i in actual_winner['winner']:\n",
        "    if i==predicted_winner[k]:\n",
        "        count_actual_winner=count_actual_winner+1\n",
        "    k=k+1  \n",
        "print(count_actual_winner)\n",
        "print(\"Accuracy of our prediction of recent IPL is\", count_actual_winner/total,',that is',(count_actual_winner/total)*100,'%')"
      ],
      "execution_count": null,
      "outputs": [
        {
          "output_type": "stream",
          "text": [
            "3\n",
            "Accuracy of our prediction of recent IPL is 0.6 ,that is 60.0 %\n"
          ],
          "name": "stdout"
        }
      ]
    },
    {
      "cell_type": "code",
      "metadata": {
        "id": "PSfr4ge9GaPe",
        "outputId": "d606241b-78b5-4b3c-d1cb-2e07f7be952e",
        "colab": {
          "base_uri": "https://localhost:8080/",
          "height": 34
        }
      },
      "source": [
        "predicted_winner"
      ],
      "execution_count": null,
      "outputs": [
        {
          "output_type": "execute_result",
          "data": {
            "text/plain": [
              "['RCB', 'SRH', 'MI', 'RCB', 'RPS']"
            ]
          },
          "metadata": {
            "tags": []
          },
          "execution_count": 77
        }
      ]
    },
    {
      "cell_type": "code",
      "metadata": {
        "id": "I5Vl9GLCGfmb",
        "outputId": "b8865632-3d9a-420b-8b99-d265fe518412",
        "colab": {
          "base_uri": "https://localhost:8080/",
          "height": 123
        }
      },
      "source": [
        "actual_winner['winner']"
      ],
      "execution_count": null,
      "outputs": [
        {
          "output_type": "execute_result",
          "data": {
            "text/plain": [
              "0     RCB\n",
              "1     SRH\n",
              "2      MI\n",
              "3    KXIP\n",
              "4      DD\n",
              "Name: winner, dtype: object"
            ]
          },
          "metadata": {
            "tags": []
          },
          "execution_count": 78
        }
      ]
    },
    {
      "cell_type": "markdown",
      "metadata": {
        "id": "_axI5ZRiKQO2"
      },
      "source": [
        "***Saving Comparision of actual winner vs predicted winner into compare.csv file in the specified path of My Drive***"
      ]
    },
    {
      "cell_type": "code",
      "metadata": {
        "id": "OPjNyI6uO_9z"
      },
      "source": [
        "# Let's delete the file compare.csv in drive then run this code "
      ],
      "execution_count": null,
      "outputs": []
    },
    {
      "cell_type": "code",
      "metadata": {
        "id": "czAeHSzPIOTe"
      },
      "source": [
        "sub = pd.DataFrame()\n",
        "sub['team1'] = actual_winner['team1']\n",
        "sub['team2'] = actual_winner['team2']\n",
        "sub['venue'] = actual_winner['venue']\n",
        "sub['toss_winner'] =actual_winner['toss_winner']\n",
        "sub['city'] = actual_winner['city']\n",
        "sub['toss_decision'] = actual_winner['toss_decision']\n",
        "sub['date of match']=actual_winner['date']\n",
        "sub['actual_winner']=actual_winner[\"winner\"]\n",
        "sub['Predicted_winner'] = predicted_winner\n",
        "sub.to_csv('/content/drive/My Drive/Colab Notebooks/intern project/compare.csv',index=False)"
      ],
      "execution_count": null,
      "outputs": []
    },
    {
      "cell_type": "code",
      "metadata": {
        "id": "qOp73Q74QIMj",
        "outputId": "d7095230-1c9a-41e7-b253-a783b05f39d0",
        "colab": {
          "base_uri": "https://localhost:8080/",
          "height": 197
        }
      },
      "source": [
        "sub.head(10)"
      ],
      "execution_count": null,
      "outputs": [
        {
          "output_type": "execute_result",
          "data": {
            "text/html": [
              "<div>\n",
              "<style scoped>\n",
              "    .dataframe tbody tr th:only-of-type {\n",
              "        vertical-align: middle;\n",
              "    }\n",
              "\n",
              "    .dataframe tbody tr th {\n",
              "        vertical-align: top;\n",
              "    }\n",
              "\n",
              "    .dataframe thead th {\n",
              "        text-align: right;\n",
              "    }\n",
              "</style>\n",
              "<table border=\"1\" class=\"dataframe\">\n",
              "  <thead>\n",
              "    <tr style=\"text-align: right;\">\n",
              "      <th></th>\n",
              "      <th>team1</th>\n",
              "      <th>team2</th>\n",
              "      <th>venue</th>\n",
              "      <th>toss_winner</th>\n",
              "      <th>city</th>\n",
              "      <th>toss_decision</th>\n",
              "      <th>date of match</th>\n",
              "      <th>actual_winner</th>\n",
              "      <th>Predicted_winner</th>\n",
              "    </tr>\n",
              "  </thead>\n",
              "  <tbody>\n",
              "    <tr>\n",
              "      <th>0</th>\n",
              "      <td>RCB</td>\n",
              "      <td>DD</td>\n",
              "      <td>4</td>\n",
              "      <td>RCB</td>\n",
              "      <td>4</td>\n",
              "      <td>1</td>\n",
              "      <td>08-04-17</td>\n",
              "      <td>RCB</td>\n",
              "      <td>RCB</td>\n",
              "    </tr>\n",
              "    <tr>\n",
              "      <th>1</th>\n",
              "      <td>GL</td>\n",
              "      <td>SRH</td>\n",
              "      <td>0</td>\n",
              "      <td>SRH</td>\n",
              "      <td>0</td>\n",
              "      <td>0</td>\n",
              "      <td>09-04-17</td>\n",
              "      <td>SRH</td>\n",
              "      <td>SRH</td>\n",
              "    </tr>\n",
              "    <tr>\n",
              "      <th>2</th>\n",
              "      <td>KKR</td>\n",
              "      <td>MI</td>\n",
              "      <td>5</td>\n",
              "      <td>MI</td>\n",
              "      <td>5</td>\n",
              "      <td>0</td>\n",
              "      <td>09-04-17</td>\n",
              "      <td>MI</td>\n",
              "      <td>MI</td>\n",
              "    </tr>\n",
              "    <tr>\n",
              "      <th>3</th>\n",
              "      <td>RCB</td>\n",
              "      <td>KXIP</td>\n",
              "      <td>3</td>\n",
              "      <td>RCB</td>\n",
              "      <td>3</td>\n",
              "      <td>1</td>\n",
              "      <td>10-04-17</td>\n",
              "      <td>KXIP</td>\n",
              "      <td>RCB</td>\n",
              "    </tr>\n",
              "    <tr>\n",
              "      <th>4</th>\n",
              "      <td>DD</td>\n",
              "      <td>RPS</td>\n",
              "      <td>1</td>\n",
              "      <td>RPS</td>\n",
              "      <td>1</td>\n",
              "      <td>0</td>\n",
              "      <td>11-04-17</td>\n",
              "      <td>DD</td>\n",
              "      <td>RPS</td>\n",
              "    </tr>\n",
              "  </tbody>\n",
              "</table>\n",
              "</div>"
            ],
            "text/plain": [
              "  team1 team2  venue  ... date of match  actual_winner  Predicted_winner\n",
              "0   RCB    DD      4  ...      08-04-17            RCB               RCB\n",
              "1    GL   SRH      0  ...      09-04-17            SRH               SRH\n",
              "2   KKR    MI      5  ...      09-04-17             MI                MI\n",
              "3   RCB  KXIP      3  ...      10-04-17           KXIP               RCB\n",
              "4    DD   RPS      1  ...      11-04-17             DD               RPS\n",
              "\n",
              "[5 rows x 9 columns]"
            ]
          },
          "metadata": {
            "tags": []
          },
          "execution_count": 82
        }
      ]
    },
    {
      "cell_type": "markdown",
      "metadata": {
        "id": "_xeE6CIzlgub"
      },
      "source": [
        "---\n",
        "---\n",
        "\n",
        "***2.Based on Toss***\n",
        "\n",
        "\n",
        "---\n",
        "---\n",
        "\n",
        "**`Winning Probability of RCB when they win/loose Toss`**\n",
        "\n",
        "---\n",
        "---\n",
        "\n",
        "\n",
        "\n"
      ]
    },
    {
      "cell_type": "code",
      "metadata": {
        "id": "QpAsTWa9YiSA",
        "outputId": "d90e02d0-0243-42e9-bc30-5391c3a951d0",
        "colab": {
          "base_uri": "https://localhost:8080/",
          "height": 381
        }
      },
      "source": [
        "count =0\n",
        "for i in range(756): \n",
        "    if df[\"toss_winner\"][i]==df[\"winner\"][i]==3 :\n",
        "        count=count+1\n",
        "\n",
        "import matplotlib.pyplot as mlt\n",
        "mlt.style.use('fivethirtyeight')\n",
        "# df_fil=df[df['toss_winner']==df['winner']]\n",
        "df_fil=df[df['toss_winner']==3]\n",
        "# slices=[len(df_fil),(756-len(df_fil))]\n",
        "slices=[count,(len(df_fil)-count)]\n",
        "mlt.pie(slices,labels=['Toss & win','Toss & lose'],startangle=90,shadow=True,explode=(0,0),autopct='%1.1f%%',colors=['g','b'])\n",
        "fig = mlt.gcf()\n",
        "fig.set_size_inches(6,6)\n",
        "mlt.show()\n",
        "# Here Toss & win means winning the toss as well as winning the match\n",
        "# Here Toss & lose means winning the toss and loosing the match "
      ],
      "execution_count": null,
      "outputs": [
        {
          "output_type": "display_data",
          "data": {
            "image/png": "[encoded data removed]",
            "text/plain": [
              "<Figure size 432x432 with 1 Axes>"
            ]
          },
          "metadata": {
            "tags": []
          }
        }
      ]
    },
    {
      "cell_type": "markdown",
      "metadata": {
        "id": "_dzdkwEpp2bI"
      },
      "source": [
        "\n",
        "---\n",
        "---\n",
        "\n",
        "**`Winning Probability of KXIP when they win/loose Toss`**\n",
        "\n",
        "---\n",
        "---\n",
        "\n",
        "\n",
        "\n"
      ]
    },
    {
      "cell_type": "code",
      "metadata": {
        "id": "5abkS90fZ5NB",
        "outputId": "43d57266-70c0-4e88-ed94-9241a5c6d814",
        "colab": {
          "base_uri": "https://localhost:8080/",
          "height": 381
        }
      },
      "source": [
        "count =0\n",
        "for i in range(756): \n",
        "    if df[\"toss_winner\"][i]==df[\"winner\"][i]==9 :\n",
        "        count=count+1\n",
        "\n",
        "import matplotlib.pyplot as mlt\n",
        "mlt.style.use('fivethirtyeight')\n",
        "# df_fil=df[df['toss_winner']==df['winner']]\n",
        "df_fil=df[df['toss_winner']==9]\n",
        "# slices=[len(df_fil),(756-len(df_fil))]\n",
        "slices=[count,(len(df_fil)-count)]\n",
        "mlt.pie(slices,labels=['Toss & win','Toss & lose'],startangle=90,shadow=True,explode=(0,0),autopct='%1.1f%%',colors=['g','b'])\n",
        "fig = mlt.gcf()\n",
        "fig.set_size_inches(6,6)\n",
        "mlt.show()"
      ],
      "execution_count": null,
      "outputs": [
        {
          "output_type": "display_data",
          "data": {
            "image/png": "[encoded data removed]",
            "text/plain": [
              "<Figure size 432x432 with 1 Axes>"
            ]
          },
          "metadata": {
            "tags": []
          }
        }
      ]
    },
    {
      "cell_type": "markdown",
      "metadata": {
        "id": "gpSLAdO1qMqO"
      },
      "source": [
        "---\n",
        "---\n",
        "***`Winning Probability of all Teams when they win/loose Toss`***\n",
        "\n",
        "---\n",
        "---"
      ]
    },
    {
      "cell_type": "code",
      "metadata": {
        "id": "RpGZZBm5qMQW",
        "outputId": "8614129d-7305-4cbe-da7b-73e43ae28838",
        "colab": {
          "base_uri": "https://localhost:8080/",
          "height": 381
        }
      },
      "source": [
        "import matplotlib.pyplot as mlt\n",
        "mlt.style.use('fivethirtyeight')\n",
        "df_fil=df[df['toss_winner']==df['winner']]\n",
        "\n",
        "slices=[len(df_fil),(756-len(df_fil))]\n",
        "\n",
        "mlt.pie(slices,labels=['Toss & win','Toss & lose'],startangle=90,shadow=True,explode=(0,0),autopct='%1.1f%%',colors=['r','g'])\n",
        "fig = mlt.gcf()\n",
        "fig.set_size_inches(6,6)\n",
        "mlt.show()\n",
        "# This is the generalized version, that is the probability of any team which win toss and win game or win toss and loose game"
      ],
      "execution_count": null,
      "outputs": [
        {
          "output_type": "display_data",
          "data": {
            "image/png": "[encoded data removed]",
            "text/plain": [
              "<Figure size 432x432 with 1 Axes>"
            ]
          },
          "metadata": {
            "tags": []
          }
        }
      ]
    },
    {
      "cell_type": "markdown",
      "metadata": {
        "id": "5WrAjXqw1gfx"
      },
      "source": [
        "---\n",
        "---\n",
        "\n",
        "***3.Based on the venue***\n",
        "\n",
        "---\n",
        "---\n",
        "\n",
        "***`Comparing RCB vs KXIP in M Chinnaswamy Stadium`***\n",
        "\n",
        "---\n",
        "---"
      ]
    },
    {
      "cell_type": "code",
      "metadata": {
        "id": "u2pL6g1iCFLX",
        "outputId": "f8aacdf3-7376-4948-b2f4-25e7221861dc",
        "colab": {
          "base_uri": "https://localhost:8080/",
          "height": 443
        }
      },
      "source": [
        "le.classes_[:] # Accending Orders of stadiums"
      ],
      "execution_count": null,
      "outputs": [
        {
          "output_type": "execute_result",
          "data": {
            "text/plain": [
              "array(['ACA-VDCA Stadium', 'Barabati Stadium', 'Brabourne Stadium',\n",
              "       'Buffalo Park', 'De Beers Diamond Oval',\n",
              "       'Dr DY Patil Sports Academy',\n",
              "       'Dr. Y.S. Rajasekhara Reddy ACA-VDCA Cricket Stadium',\n",
              "       'Dubai International Cricket Stadium', 'Eden Gardens',\n",
              "       'Feroz Shah Kotla', 'Feroz Shah Kotla Ground', 'Green Park',\n",
              "       'Himachal Pradesh Cricket Association Stadium',\n",
              "       'Holkar Cricket Stadium', 'IS Bindra Stadium',\n",
              "       'JSCA International Stadium Complex', 'Kingsmead',\n",
              "       'M Chinnaswamy Stadium', 'M. A. Chidambaram Stadium',\n",
              "       'M. Chinnaswamy Stadium', 'MA Chidambaram Stadium, Chepauk',\n",
              "       'Maharashtra Cricket Association Stadium', 'Nehru Stadium',\n",
              "       'New Wanderers Stadium', 'Newlands', 'OUTsurance Oval',\n",
              "       'Punjab Cricket Association IS Bindra Stadium, Mohali',\n",
              "       'Punjab Cricket Association Stadium, Mohali',\n",
              "       'Rajiv Gandhi International Stadium, Uppal',\n",
              "       'Rajiv Gandhi Intl. Cricket Stadium',\n",
              "       'Sardar Patel Stadium, Motera',\n",
              "       'Saurashtra Cricket Association Stadium', 'Sawai Mansingh Stadium',\n",
              "       'Shaheed Veer Narayan Singh International Stadium',\n",
              "       'Sharjah Cricket Stadium', 'Sheikh Zayed Stadium',\n",
              "       \"St George's Park\", 'Subrata Roy Sahara Stadium',\n",
              "       'SuperSport Park', 'Vidarbha Cricket Association Stadium, Jamtha',\n",
              "       'Wankhede Stadium'], dtype=object)"
            ]
          },
          "metadata": {
            "tags": []
          },
          "execution_count": 86
        }
      ]
    },
    {
      "cell_type": "code",
      "metadata": {
        "id": "eAAtYGYmrJvs",
        "outputId": "298040ff-a56d-4b1a-e445-20ef3e25e6fb",
        "colab": {
          "base_uri": "https://localhost:8080/",
          "height": 442
        }
      },
      "source": [
        "team1=dicVal['RCB']\n",
        "team2=dicVal['KXIP']\n",
        "mtemp=matches[((matches['team1']==team1)|(matches['team2']==team1))&((matches['team1']==team2)|(matches['team2']==team2))]\n",
        "sns.countplot(x='venue', hue='winner',data=mtemp,palette='Set1')\n",
        "mlt.xticks(rotation='vertical')\n",
        "leg = mlt.legend( loc = 'upper right')\n",
        "fig=mlt.gcf()\n",
        "fig.set_size_inches(10,6)\n",
        "mlt.show()\n",
        "le.classes_[19]  \n",
        "# Here 17 & 19 are the index value for M Chinnaswamy Stadium mentioned in Dataset\n",
        "# other than 17 & 19, In remaining stadium RCB and KXIP were played and their stats were plotted \n",
        "# we conclude that KXIP has less winning in M Chinnaswamy Stadium"
      ],
      "execution_count": null,
      "outputs": [
        {
          "output_type": "display_data",
          "data": {
            "image/png": "[encoded data removed]",
            "text/plain": [
              "<Figure size 720x432 with 1 Axes>"
            ]
          },
          "metadata": {
            "tags": []
          }
        },
        {
          "output_type": "execute_result",
          "data": {
            "application/vnd.google.colaboratory.intrinsic+json": {
              "type": "string"
            },
            "text/plain": [
              "'M. Chinnaswamy Stadium'"
            ]
          },
          "metadata": {
            "tags": []
          },
          "execution_count": 87
        }
      ]
    },
    {
      "cell_type": "markdown",
      "metadata": {
        "id": "7_2ErXz7Aj-H"
      },
      "source": [
        "---\n",
        "---\n",
        "\n",
        "***Comparing MI vs RCB in Wankhede Stadium***\n",
        "\n",
        "---\n",
        "---\n",
        "\n",
        "\n"
      ]
    },
    {
      "cell_type": "code",
      "metadata": {
        "id": "HfG3fHmm_QKD",
        "outputId": "8d8d2c2e-bffa-422b-bb20-d59bb3146bad",
        "colab": {
          "base_uri": "https://localhost:8080/",
          "height": 442
        }
      },
      "source": [
        "team1=dicVal['MI']\n",
        "team2=dicVal['RCB']\n",
        "mtemp=matches[((matches['team1']==team1)|(matches['team2']==team1))&((matches['team1']==team2)|(matches['team2']==team2))]\n",
        "sns.countplot(x='venue', hue='winner',data=mtemp,palette='Set2')\n",
        "mlt.xticks(rotation='vertical')\n",
        "leg = mlt.legend( loc = 'upper right')\n",
        "fig=mlt.gcf()\n",
        "fig.set_size_inches(10,6)\n",
        "mlt.show()\n",
        "le.classes_[40]\n",
        "# index 40 for Wankhede stadium\n",
        "# other than 40, In remaining stadium MI and RCB were played and their stats were plotted \n",
        "# we conclude that RCB has less winning in Wankhede Stadium"
      ],
      "execution_count": null,
      "outputs": [
        {
          "output_type": "display_data",
          "data": {
            "image/png": "[encoded data removed]",
            "text/plain": [
              "<Figure size 720x432 with 1 Axes>"
            ]
          },
          "metadata": {
            "tags": []
          }
        },
        {
          "output_type": "execute_result",
          "data": {
            "application/vnd.google.colaboratory.intrinsic+json": {
              "type": "string"
            },
            "text/plain": [
              "'Wankhede Stadium'"
            ]
          },
          "metadata": {
            "tags": []
          },
          "execution_count": 88
        }
      ]
    },
    {
      "cell_type": "markdown",
      "metadata": {
        "id": "AidhmFA2CmOL"
      },
      "source": [
        "---\n",
        "---\n",
        "\n",
        "***Comparing CSK vs MI in MA Chidambaram Stadium***\n",
        "\n",
        "---\n",
        "---\n",
        "\n",
        "\n"
      ]
    },
    {
      "cell_type": "code",
      "metadata": {
        "id": "emfaYGvCCeiX",
        "outputId": "34400117-8ddf-4fc5-b22b-95eb04e653f7",
        "colab": {
          "base_uri": "https://localhost:8080/",
          "height": 442
        }
      },
      "source": [
        "team1=dicVal['CSK']\n",
        "team2=dicVal['MI']\n",
        "mtemp=matches[((matches['team1']==team1)|(matches['team2']==team1))&((matches['team1']==team2)|(matches['team2']==team2))]\n",
        "sns.countplot(x='venue', hue='winner',data=mtemp,palette='Set3')\n",
        "mlt.xticks(rotation='vertical')\n",
        "leg = mlt.legend( loc = 'upper right')\n",
        "fig=mlt.gcf()\n",
        "fig.set_size_inches(10,6)\n",
        "mlt.show()\n",
        "le.classes_[20]\n",
        "# index 20 for MA Chidambaram Stadium\n",
        "# other than 20, In remaining stadium MI and CSK were played and their stats were plotted \n",
        "# we conclude that CSK has less winning in MA Chidambaram Stadium"
      ],
      "execution_count": null,
      "outputs": [
        {
          "output_type": "display_data",
          "data": {
            "image/png": "[encoded data removed]",
            "text/plain": [
              "<Figure size 720x432 with 1 Axes>"
            ]
          },
          "metadata": {
            "tags": []
          }
        },
        {
          "output_type": "execute_result",
          "data": {
            "application/vnd.google.colaboratory.intrinsic+json": {
              "type": "string"
            },
            "text/plain": [
              "'MA Chidambaram Stadium, Chepauk'"
            ]
          },
          "metadata": {
            "tags": []
          },
          "execution_count": 89
        }
      ]
    }
  ]
}